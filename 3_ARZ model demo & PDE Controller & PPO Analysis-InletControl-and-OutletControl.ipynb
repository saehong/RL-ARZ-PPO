{
 "cells": [
  {
   "cell_type": "code",
   "execution_count": 1,
   "metadata": {},
   "outputs": [],
   "source": [
    "import numpy as np\n",
    "import matplotlib.pyplot as plt\n",
    "import gym\n",
    "import gym_arz\n",
    "from settings_file import *\n",
    "\n",
    "import ipdb"
   ]
  },
  {
   "cell_type": "markdown",
   "metadata": {},
   "source": [
    "# ARZ model simulation"
   ]
  },
  {
   "cell_type": "code",
   "execution_count": 2,
   "metadata": {},
   "outputs": [
    {
     "name": "stdout",
     "output_type": "stream",
     "text": [
      "Case 1: Outlet Boundary Control\n",
      "Determinstic Env.\n",
      "Initial condition of rs: 0.12\n",
      "Action space is discrete?: False\n",
      "Size of actions: Box(1,)\n"
     ]
    },
    {
     "name": "stderr",
     "output_type": "stream",
     "text": [
      "/home/saehong/miniconda3/envs/shp_1/lib/python3.6/site-packages/gym/logger.py:30: UserWarning: \u001b[33mWARN: Box bound precision lowered by casting to float32\u001b[0m\n",
      "  warnings.warn(colorize('%s: %s'%('WARN', msg % args), 'yellow'))\n"
     ]
    }
   ],
   "source": [
    "\n",
    "env = gym.make(\"arz-v0\", sett=settings, cont_sett = control_settings)\n",
    "\n",
    "print(\"Action space is discrete?:\", env.discrete)\n",
    "print(\"Size of actions: {}\".format(env.action_space))\n"
   ]
  },
  {
   "cell_type": "code",
   "execution_count": 7,
   "metadata": {},
   "outputs": [],
   "source": [
    "r_size = len(env.r)\n",
    "y_size = len(env.y)\n",
    "v_size = len(env.v)"
   ]
  },
  {
   "cell_type": "code",
   "execution_count": 8,
   "metadata": {},
   "outputs": [],
   "source": [
    "## Parameter values from the Gym environment\n",
    "\n",
    "# Parameter\n",
    "vm = settings['vm']#40\n",
    "rm = settings['rm']#0.16\n",
    "tau = settings['tau']#60\n",
    "L = settings['L']#500\n",
    "T = settings['T'] * 4 #settings['T'] is 120 (2mins)\n",
    "vs = settings['vs']#10\n",
    "rs  = settings['rs']#0.12\n",
    "qs  = settings['qs']#rs * vs\n",
    "gam = settings['gam']#1\n",
    "ps  = vm/rm * qs/vs\n",
    "ys  = 0;\n",
    "\n",
    "\n",
    "# Discretization\n",
    "dx = settings['dx']#5\n",
    "dt = settings['dt']#0.1\n",
    "t = np.arange(0,T+dt,dt)\n",
    "x = np.arange(0,L+dx,dx)\n",
    "M = len(x)\n",
    "N = len(np.arange(0,T+dt,dt))\n",
    "\n",
    "# charateristics\n",
    "lambda_1 = vs ;\n",
    "lambda_2 = vs - rs * vm/rm ;\n",
    "\n",
    "# Fundamental diagram\n",
    "Veq = lambda rho: vm * ( 1 - rho/rm)\n",
    "\n",
    "# Flux\n",
    "F_r = lambda rho,y: y + rho * Veq(rho)\n",
    "F_y = lambda rho,y: y * (y/rho + Veq(rho))\n",
    "\n",
    "# Spatial function\n",
    "c_x = lambda x: -1 / tau * np.exp(-x/tau/vs)\n"
   ]
  },
  {
   "cell_type": "code",
   "execution_count": null,
   "metadata": {},
   "outputs": [],
   "source": [
    "# Simulation setting\n",
    "\n",
    "r_save_base = np.zeros([r_size,N])\n",
    "y_save_base = np.zeros([y_size,N])\n",
    "v_save_base = np.zeros([v_size,N])\n",
    "action_save_base = np.zeros([2,N])\n",
    "reward_save_base = np.zeros(N)\n",
    "\n",
    "env.reset()\n",
    "r_save_base[:,0] = env.r.reshape(r_size,)\n",
    "y_save_base[:,0] = env.y.reshape(y_size,)\n",
    "v_save_base[:,0] = env.v.reshape(v_size,)\n",
    "action_save_base[:,0] = 0\n",
    "\n",
    "\n",
    "\n",
    "rs = env.rs#0.12\n",
    "vs = env.vs#10\n",
    "qs = env.qs\n",
    "\n",
    "def find_nearest(array, value):\n",
    "    idx = (np.abs(array - value)).argmin()\n",
    "    return idx\n",
    "\n",
    "# Find input index close to qs_input\n",
    "env_qs_input = env.qs_input\n",
    "idx = find_nearest(env_qs_input,qs)\n",
    "\n",
    "DISCRETE = env.discrete\n",
    "\n",
    "for i in range(N-1):\n",
    "    #action = find_nearest(env_qs_input,qs)\n",
    "    if DISCRETE:\n",
    "        action = find_nearest(env_qs_input,qs)\n",
    "    else:\n",
    "        action = np.array([qs,qs])\n",
    "    states, reward, is_done, info = env.step(action)\n",
    "    r_save_base[:,i+1] = env.r.reshape(r_size,)\n",
    "    y_save_base[:,i+1] = env.y.reshape(y_size,)\n",
    "    v_save_base[:,i+1] = env.v.reshape(v_size,)\n",
    "    action_save_base[:,i+1] = action\n",
    "    reward_save_base[i+1] = reward"
   ]
  },
  {
   "cell_type": "markdown",
   "metadata": {},
   "source": [
    "# Visualization"
   ]
  },
  {
   "cell_type": "code",
   "execution_count": null,
   "metadata": {},
   "outputs": [],
   "source": [
    "%matplotlib notebook\n",
    "\n",
    "import matplotlib.pyplot as plt\n",
    "from mpl_toolkits.mplot3d import Axes3D\n",
    "# ax.plot3D(xline, yline, zline, 'gray')\n",
    "\n",
    "## create meshgrid\n",
    "L = settings['L']  #[m]\n",
    "dx = settings['dx']\n",
    "x = np.arange(0,L+dx,dx)\n",
    "t = np.arange(0,T+dt,dt)\n",
    "\n",
    "xx, tt = np.meshgrid(x,t,indexing='ij')\n",
    "\n",
    "\n",
    "fig = plt.figure()\n",
    "ax = fig.add_subplot(111, projection='3d')\n",
    "ax.set_xlabel('Position x [m]')\n",
    "ax.set_ylabel('Time [min]')\n",
    "ax.set_zlabel('Density [veh/km]')\n",
    "ax.set_title(r'$\\rho$')\n",
    "ax.plot_surface(xx[0:,0:],tt[0:,0:],r_save_base[0:,0:],cmap=plt.cm.gray,edgecolors='#000000',linewidth=1,antialiased=True,rstride=1,cstride=100)\n",
    "ax.plot(xx[:,0],tt[:,0],r_save_base[:,0],color='blue',LineWidth=4)\n"
   ]
  },
  {
   "cell_type": "code",
   "execution_count": null,
   "metadata": {},
   "outputs": [],
   "source": [
    "from mpl_toolkits.mplot3d import Axes3D\n",
    "\n",
    "## create meshgrid\n",
    "L = settings['L'] #[m]\n",
    "dx = settings['dx']\n",
    "x = np.arange(0,L+dx,dx)\n",
    "t = np.arange(0,T+dt,dt)\n",
    "\n",
    "xx, tt = np.meshgrid(x,t,indexing='ij')\n",
    "\n",
    "\n",
    "fig = plt.figure()\n",
    "ax = fig.add_subplot(111, projection='3d')\n",
    "ax.set_xlabel('Position x [m]')\n",
    "ax.set_ylabel('Time [min]')\n",
    "ax.set_zlabel('Velocity [m/s]')\n",
    "ax.set_title(r'$V$')\n",
    "ax.plot_surface(xx[0:,0:],tt[0:,0:],v_save_base[0:,0:],cmap=plt.cm.gray,edgecolors='#000000',linewidth=0.5,antialiased=True,rstride=1,cstride=100)\n",
    "ax.plot(xx[:,0],tt[:,0],v_save_base[:,0],color='blue',LineWidth=4)\n",
    "\n",
    "\n",
    "# ax.plot_surface(xx,tt,v_save)"
   ]
  },
  {
   "cell_type": "markdown",
   "metadata": {},
   "source": [
    "When we save the results in mat.file and plot them, they are looking better."
   ]
  },
  {
   "cell_type": "code",
   "execution_count": null,
   "metadata": {},
   "outputs": [],
   "source": [
    "from mpl_toolkits.mplot3d import Axes3D\n",
    "\n",
    "fig, ax1 = plt.subplots(figsize=(8,4))\n",
    "plt.plot(t[1:],reward_save_base[1:])\n",
    "plt.xlabel('Time [sec]')\n",
    "plt.ylabel('Reward')\n",
    "plt.title('Reward')\n",
    "plt.grid(True)\n",
    "plt.show()\n"
   ]
  },
  {
   "cell_type": "code",
   "execution_count": null,
   "metadata": {},
   "outputs": [],
   "source": [
    "sum(reward_save_base)"
   ]
  },
  {
   "cell_type": "code",
   "execution_count": null,
   "metadata": {},
   "outputs": [],
   "source": [
    "q_save_base = r_save_base * v_save_base"
   ]
  },
  {
   "cell_type": "code",
   "execution_count": null,
   "metadata": {},
   "outputs": [],
   "source": [
    "q_save_base.shape"
   ]
  },
  {
   "cell_type": "code",
   "execution_count": null,
   "metadata": {},
   "outputs": [],
   "source": [
    "fig, ax1 = plt.subplots(figsize=(8,4))\n",
    "plt.plot(t[1:],q_save_base[-2,1:])\n",
    "plt.ylabel('q(L-1,t)')\n",
    "plt.xlabel('Time [sec]')\n",
    "plt.show()"
   ]
  },
  {
   "cell_type": "code",
   "execution_count": null,
   "metadata": {},
   "outputs": [],
   "source": [
    "fig, ax1 = plt.subplots(figsize=(8,4))\n",
    "plt.plot(q_save_base[-1,1:])\n",
    "plt.ylabel('q(L,t), applied input')\n",
    "plt.xlabel('Time [sec]')"
   ]
  },
  {
   "cell_type": "code",
   "execution_count": null,
   "metadata": {
    "scrolled": true
   },
   "outputs": [],
   "source": [
    "fig, ax1 = plt.subplots(figsize=(8,4))\n",
    "\n",
    "plt.plot(q_save_base[0,:])\n",
    "plt.ylabel('q(0,t)')\n",
    "plt.xlabel('Time [sec]')"
   ]
  },
  {
   "cell_type": "markdown",
   "metadata": {},
   "source": [
    "# I/O"
   ]
  },
  {
   "cell_type": "markdown",
   "metadata": {},
   "source": [
    "Convert python data into Matlab data."
   ]
  },
  {
   "cell_type": "code",
   "execution_count": null,
   "metadata": {},
   "outputs": [],
   "source": [
    "import scipy.io as sio\n",
    "sio.savemat('ARZ_python_result_Base_Stochastic_rs012.mat',{'r_vec_base':r_save_base, 'v_vec_base':v_save_base, 'rwd_base' : reward_save_base, 'input_base': action_save_base, 'xx': xx, 'tt' : tt})"
   ]
  },
  {
   "cell_type": "markdown",
   "metadata": {},
   "source": [
    "# PDE controller"
   ]
  },
  {
   "cell_type": "code",
   "execution_count": null,
   "metadata": {},
   "outputs": [],
   "source": [
    "# Interacting with env.\n",
    "\n",
    "env.reset()\n",
    "q_inlet_save = np.zeros([1,N])\n",
    "r_save = np.zeros([r_size,N])\n",
    "y_save = np.zeros([y_size,N])\n",
    "v_save = np.zeros([v_size,N])\n",
    "PDE_input_save = np.zeros([1,N])\n",
    "reward_save = np.zeros(N)\n",
    "\n",
    "r_save[:,0] = env.r.reshape(r_size,)\n",
    "y_save[:,0] = env.y.reshape(y_size,)\n",
    "v_save[:,0] = env.v.reshape(v_size,)\n",
    "\n",
    "v_temp = y_save[:,0]/r_save[:,0] + Veq(r_save[:,0]) - vs * np.ones((M,))\n",
    "v_temp = v_temp.reshape(v_temp.shape[0],1) # flatten -> column vector\n",
    "q_temp = y_save[:,0] + r_save[:,0] * Veq(r_save[:,0]) - qs * np.ones((M,))\n",
    "q_temp = q_temp.reshape(q_temp.shape[0],1) # flatten -> column vector\n",
    "\n",
    "Trans_K =  np.transpose(K[:,0]).reshape(1,K[:,0].shape[0])\n",
    "IM = np.fliplr(-Trans_K) * np.transpose(v_temp)\n",
    "\n",
    "IK_v_left = lambda_2 / lambda_1 * K[M-1,:] * np.exp(x/tau/vs)\n",
    "IK_v_left = IK_v_left.reshape(1,IK_v_left.shape[0]) # flatten -> row vector\n",
    "IK_v = IK_v_left * np.transpose(v_temp)\n",
    "IK_q_left = (lambda_1 - lambda_2) / qs * K[M-1,:] * np.exp(x/tau/vs)\n",
    "IK_q_left = IK_q_left.reshape(1,IK_q_left.shape[0]) # flatten -> row vector\n",
    "IK_q = IK_q_left * np.transpose(q_temp)\n",
    "\n",
    "U = np.zeros(N)\n",
    "U[0] = np.trapz(IM,x=x) + np.trapz(IK_v,x=x) + np.trapz(IK_q,x=x)\n",
    "\n",
    "qs_input = (U[0]+vs)*r_save[-1,0]\n",
    "\n",
    "\n",
    "\n",
    "def find_nearest(array, value):\n",
    "    idx = (np.abs(array - value)).argmin()\n",
    "    return idx\n",
    "\n",
    "# Find input index close to qs_input\n",
    "env_qs_input = env.qs_input\n",
    "idx = find_nearest(env_qs_input,qs_input)\n",
    "\n",
    "for i in range(N-1):\n",
    "    #action = find_nearest(env_qs_input,qs_input)\n",
    "    #q_inlet_save[:,i+1] = env.q_inlet.reshape(1,)\n",
    "    if DISCRETE:\n",
    "        action = find_nearest(env_qs_input,qs)\n",
    "    else:\n",
    "        action = qs_input\n",
    "        PDE_input_save[:,i] = qs_input\n",
    "    states, reward, is_done, info = env.step(action)\n",
    "    r_save[:,i+1] = env.r.reshape(r_size,)\n",
    "    y_save[:,i+1] = env.y.reshape(y_size,)\n",
    "    v_save[:,i+1] = env.v.reshape(v_size,)\n",
    "    reward_save[i+1] = reward\n",
    "    \n",
    "    # Closed-loop control\n",
    "    v_temp = y_save[:,i+1]/r_save[:,i+1] + Veq(r_save[:,i+1]) - vs * np.ones((M,))\n",
    "    v_temp = v_temp.reshape(v_temp.shape[0],1) # flatten -> column vector\n",
    "    q_temp = y_save[:,i+1] + r_save[:,i+1] * Veq(r_save[:,i+1]) - qs * np.ones((M,))\n",
    "    q_temp = q_temp.reshape(q_temp.shape[0],1) # flatten -> column vector\n",
    "\n",
    "    Trans_K =  np.transpose(K[:,0]).reshape(1,K[:,0].shape[0])\n",
    "    IM = np.fliplr(-Trans_K) * np.transpose(v_temp)\n",
    "\n",
    "    IK_v_left = lambda_2 / lambda_1 * K[M-1,:] * np.exp(x/tau/vs)\n",
    "    IK_v_left = IK_v_left.reshape(1,IK_v_left.shape[0]) # flatten -> row vector\n",
    "    IK_v = IK_v_left * np.transpose(v_temp)\n",
    "    IK_q_left = (lambda_1 - lambda_2) / qs * K[M-1,:] * np.exp(x/tau/vs)\n",
    "    IK_q_left = IK_q_left.reshape(1,IK_q_left.shape[0]) # flatten -> row vector\n",
    "    IK_q = IK_q_left * np.transpose(q_temp)\n",
    "\n",
    "    U[i+1] = np.trapz(IM,x=x) + np.trapz(IK_v,x=x) + np.trapz(IK_q,x=x)\n",
    "\n",
    "    qs_input = (U[i+1]+vs)*r_save[-1,i+1]\n",
    "\n"
   ]
  },
  {
   "cell_type": "code",
   "execution_count": null,
   "metadata": {},
   "outputs": [],
   "source": [
    "r_save_bcmk = r_save\n",
    "y_save_bcmk = y_save\n",
    "v_save_bcmk = v_save\n",
    "reward_save_bcmk = reward_save"
   ]
  },
  {
   "cell_type": "code",
   "execution_count": null,
   "metadata": {},
   "outputs": [],
   "source": [
    "from mpl_toolkits.mplot3d import Axes3D\n",
    "\n",
    "## create meshgrid\n",
    "L = settings['L']  #[m]\n",
    "dx = settings['dx']\n",
    "x = np.arange(0,L+dx,dx)\n",
    "t = np.arange(0,T+dt,dt)\n",
    "\n",
    "xx, tt = np.meshgrid(x,t,indexing='ij')\n",
    "\n",
    "\n",
    "fig = plt.figure()\n",
    "ax = fig.add_subplot(111, projection='3d')\n",
    "ax.set_xlabel('Position x [m]')\n",
    "ax.set_ylabel('Time [min]')\n",
    "ax.set_zlabel('Density [veh/km]')\n",
    "ax.set_title(r'$\\rho$')\n",
    "ax.plot_surface(xx[0:,0:],tt[0:,0:],r_save_bcmk[0:,0:],cmap=plt.cm.gray,edgecolors='#000000',linewidth=1,antialiased=True,rstride=1,cstride=100)\n",
    "ax.plot(xx[:,0],tt[:,0],r_save_bcmk[:,0],color='blue',LineWidth=4)\n"
   ]
  },
  {
   "cell_type": "code",
   "execution_count": null,
   "metadata": {},
   "outputs": [],
   "source": [
    "from mpl_toolkits.mplot3d import Axes3D\n",
    "\n",
    "## create meshgrid\n",
    "L = settings['L'] #[m]\n",
    "dx = settings['dx']\n",
    "x = np.arange(0,L+dx,dx)\n",
    "t = np.arange(0,T+dt,dt)\n",
    "\n",
    "xx, tt = np.meshgrid(x,t,indexing='ij')\n",
    "\n",
    "\n",
    "fig = plt.figure()\n",
    "ax = fig.add_subplot(111, projection='3d')\n",
    "ax.set_xlabel('Position x [m]')\n",
    "ax.set_ylabel('Time [min]')\n",
    "ax.set_zlabel('Velocity [m/s]')\n",
    "ax.set_title(r'$V$')\n",
    "ax.plot_surface(xx[0:,0:],tt[0:,0:],v_save_bcmk[0:,0:],cmap=plt.cm.gray,edgecolors='#000000',linewidth=1,antialiased=True,rstride=1,cstride=100)\n",
    "ax.plot(xx[:,0],tt[:,0],v_save_bcmk[:,0],color='blue',LineWidth=4)\n",
    "\n"
   ]
  },
  {
   "cell_type": "code",
   "execution_count": null,
   "metadata": {},
   "outputs": [],
   "source": [
    "from mpl_toolkits.mplot3d import Axes3D\n",
    "\n",
    "fig, ax1 = plt.subplots(figsize=(8,4))\n",
    "\n",
    "\n",
    "plt.plot(t,reward_save)\n",
    "plt.xlabel('Time [sec]')\n",
    "plt.ylabel('Reward')\n",
    "plt.title('Reward')\n",
    "plt.grid(True)\n",
    "plt.show()\n"
   ]
  },
  {
   "cell_type": "code",
   "execution_count": null,
   "metadata": {},
   "outputs": [],
   "source": [
    "sum(reward_save_bcmk)"
   ]
  },
  {
   "cell_type": "markdown",
   "metadata": {},
   "source": [
    "We plot the input profile here"
   ]
  },
  {
   "cell_type": "code",
   "execution_count": null,
   "metadata": {},
   "outputs": [],
   "source": [
    "q_save_bcmk = r_save_bcmk * v_save_bcmk"
   ]
  },
  {
   "cell_type": "code",
   "execution_count": null,
   "metadata": {},
   "outputs": [],
   "source": [
    "fig, ax1 = plt.subplots(figsize=(6,4))\n",
    "\n",
    "plt.plot(q_inlet_save[0,1:])\n",
    "plt.ylabel('q(L,t)')\n",
    "plt.xlabel('Time [sec]')"
   ]
  },
  {
   "cell_type": "code",
   "execution_count": null,
   "metadata": {},
   "outputs": [],
   "source": [
    "fig, ax1 = plt.subplots(figsize=(6,4))\n",
    "\n",
    "plt.plot(q_save_bcmk[-1,:])\n",
    "plt.ylabel('q(L,t)')\n",
    "plt.xlabel('Time [sec]')"
   ]
  },
  {
   "cell_type": "code",
   "execution_count": null,
   "metadata": {
    "scrolled": true
   },
   "outputs": [],
   "source": [
    "fig, ax1 = plt.subplots(figsize=(6,4))\n",
    "\n",
    "plt.plot(q_save_bcmk[0,:])\n",
    "plt.ylabel('q(0,t)')\n",
    "plt.xlabel('Time [sec]')"
   ]
  },
  {
   "cell_type": "code",
   "execution_count": null,
   "metadata": {},
   "outputs": [],
   "source": [
    "fig, ax1 = plt.subplots(figsize=(6,4))\n",
    "\n",
    "plt.plot(PDE_input_save[0,:-1])\n",
    "plt.xlabel('Time [sec]')\n",
    "plt.ylabel('q(L,t)')\n",
    "plt.title('INPUT SHAPE')\n",
    "plt.grid(True)\n",
    "plt.show()"
   ]
  },
  {
   "cell_type": "markdown",
   "metadata": {},
   "source": [
    "Save data for PLOT."
   ]
  },
  {
   "cell_type": "code",
   "execution_count": null,
   "metadata": {},
   "outputs": [],
   "source": [
    "import scipy.io as sio\n",
    "sio.savemat('ARZ_python_result_BCMK.mat',{'r_vec_bcmk':r_save_bcmk, 'v_vec_bcmk':v_save_bcmk, 'rwd_bcmk' : reward_save_bcmk, 'input_bcmk': PDE_input_save,'xx': xx, 'tt' : tt})"
   ]
  },
  {
   "cell_type": "markdown",
   "metadata": {},
   "source": [
    "# PPO Controller\n",
    "\n",
    "Paste from enjoy.py. file\n",
    "\n",
    "This is different from above as the environemnt is VECTORIZED.. So you may need to restart if you want to simulate above code again.\n"
   ]
  },
  {
   "cell_type": "code",
   "execution_count": 3,
   "metadata": {},
   "outputs": [],
   "source": [
    "import argparse\n",
    "import os\n",
    "# workaround to unpickle olf model files\n",
    "import sys\n",
    "\n",
    "import numpy as np\n",
    "import torch\n",
    "\n",
    "from a2c_ppo_acktr.envs import VecPyTorch, make_vec_envs, make_vec_envs_arz\n",
    "from a2c_ppo_acktr.utils import get_render_func, get_vec_normalize\n",
    "\n",
    "import ipdb #SHP \n",
    "import gym_arz #SHP\n",
    "from settings_file import *"
   ]
  },
  {
   "cell_type": "code",
   "execution_count": 4,
   "metadata": {},
   "outputs": [],
   "source": [
    "from types import SimpleNamespace\n",
    "# args = SimpleNamespace(env_name=\"arz-v0\", load_dir=\"./trained_models/ppo\", seed = 1, det = True, non_det = False, log_interval=10)\n",
    "\n",
    "## 1.Control Outlet, fix inlet\n",
    "args = SimpleNamespace(env_name=\"arz-v0\", load_dir=\"save_results/1_Outlet_Boundary_Results\", seed = 1, det = True, non_det = False, log_interval=10)\n",
    "\n",
    "## 2.Control inlet, fix outlet \n",
    "# args = SimpleNamespace(env_name=\"arz-v0\", load_dir=\"./0914_inlet_controls/2020-09-14-15-52\", seed = 1, det = True, non_det = False, log_interval=10)\n",
    "\n",
    "## 3.Control inlet & outlet \n",
    "# args = SimpleNamespace(env_name=\"arz-v0\", load_dir=\"./0915_inlet_outlet_controls/2020-09-16-10-33\", seed = 1, det = True, non_det = False, log_interval=10)\n",
    "\n",
    "## 4.Control inlet & outlet w/ random r_s\n",
    "# args = SimpleNamespace(env_name=\"arz-v0\", load_dir=\"./0917_inlet_outlet_controls_random/2020-09-17-12-06\", seed = 1, det = True, non_det = False, log_interval=10)\n",
    "\n",
    "\n",
    "# args.env_name = \"arz-v0\"\n",
    "# args.load_dir = \"./trained_models/ppo\""
   ]
  },
  {
   "cell_type": "code",
   "execution_count": 5,
   "metadata": {},
   "outputs": [
    {
     "name": "stdout",
     "output_type": "stream",
     "text": [
      "Case 1: Outlet Boundary Control\n",
      "Determinstic Env.\n",
      "Initial condition of rs: 0.12\n",
      "Case 1: Outlet Boundary Control\n",
      "Determinstic Env.\n",
      "Initial condition of rs: 0.12\n"
     ]
    },
    {
     "name": "stderr",
     "output_type": "stream",
     "text": [
      "/home/saehong/miniconda3/envs/shp_1/lib/python3.6/site-packages/gym/logger.py:30: UserWarning: \u001b[33mWARN: Box bound precision lowered by casting to float32\u001b[0m\n",
      "  warnings.warn(colorize('%s: %s'%('WARN', msg % args), 'yellow'))\n"
     ]
    }
   ],
   "source": [
    "env_vec = make_vec_envs_arz(\n",
    "    args.env_name,\n",
    "    settings,\n",
    "    control_settings,\n",
    "    args.seed + 1000,\n",
    "    1,\n",
    "    None,\n",
    "    None,\n",
    "    device='cpu',\n",
    "    allow_early_resets=False)\n",
    "\n",
    "\n",
    "# Get a render function\n",
    "render_func = get_render_func(env_vec)\n",
    "\n",
    "# We need to use the same statistics for normalization as used in training\n",
    "\n",
    "\n",
    "## 1.Control Outlet, fix inlet\n",
    "actor_critic, ob_rms = \\\n",
    "            torch.load(os.path.join(args.load_dir, args.env_name + \"-tr-920-th\" + \".pt\"),map_location='cpu')\n",
    "\n",
    "## 2.Control inlet, fix outlet controller\n",
    "# actor_critic, ob_rms = \\\n",
    "#             torch.load(os.path.join(args.load_dir, args.env_name + \"-tr-2080-th\" + \".pt\"),map_location='cpu')\n",
    "\n",
    "## 3.Control inlet & outlet \n",
    "# actor_critic, ob_rms = \\\n",
    "#             torch.load(os.path.join(args.load_dir, args.env_name + \"-tr-2080-th\" + \".pt\"),map_location='cpu')\n",
    "\n",
    "## 4.Control inlet & outlet w/ random r_s\n",
    "# actor_critic, ob_rms = \\\n",
    "#             torch.load(os.path.join(args.load_dir, args.env_name + \"-tr-2080-th\" + \".pt\"),map_location='cpu')\n",
    "\n",
    "\n",
    "vec_norm = get_vec_normalize(env_vec)\n",
    "if vec_norm is not None:\n",
    "    vec_norm.eval()\n",
    "    vec_norm.ob_rms = ob_rms\n",
    "\n",
    "recurrent_hidden_states = torch.zeros(1,\n",
    "                                      actor_critic.recurrent_hidden_state_size)\n",
    "masks = torch.zeros(1, 1)\n",
    "\n",
    "obs = env_vec.reset()\n"
   ]
  },
  {
   "cell_type": "code",
   "execution_count": 35,
   "metadata": {},
   "outputs": [
    {
     "name": "stdout",
     "output_type": "stream",
     "text": [
      "Case 1: Outlet Boundary Control\n",
      "Determinstic Env.\n",
      "Initial condition of rs: 0.12\n",
      "Time over..\n",
      "Case 1: Outlet Boundary Control\n",
      "Determinstic Env.\n",
      "Initial condition of rs: 0.12\n",
      "DONE\n"
     ]
    }
   ],
   "source": [
    "args.det = True\n",
    "\n",
    "## Added by SHP\n",
    "obs_save = []\n",
    "rwd_save = []\n",
    "PPO_input_save = []\n",
    "PPO_RHO_SAVE = []\n",
    "PPO_VEL_SAVE = []\n",
    "\n",
    "TIME_VEC = []\n",
    "dt = settings['dt']\n",
    "\n",
    "# Intial Condtions\n",
    "obs = env_vec.reset()\n",
    "obs_save.append(obs)\n",
    "\n",
    "PPO_RHO_SAVE.append((obs[0][0:51]*env.rs_desired+env.rs_desired).tolist())\n",
    "PPO_VEL_SAVE.append((obs[0][51:]*env.vs_desired+env.vs_desired).tolist())\n",
    "\n",
    "\n",
    "ACTION_VEC = []\n",
    "ACTION_VEC.append(np.array([0,0]))\n",
    "\n",
    "\n",
    "tt = 0\n",
    "TIME_VEC.append(tt)\n",
    "\n",
    "\n",
    "\n",
    "\n",
    "# while True:\n",
    "for i in range(N-1):\n",
    "    with torch.no_grad():\n",
    "        value, action, _, recurrent_hidden_states = actor_critic.act(\n",
    "            obs, recurrent_hidden_states, masks, deterministic=args.det)\n",
    "        \n",
    "    action = action[0]\n",
    "\n",
    "    PPO_input_save.append(action)\n",
    "    \n",
    "    obs, reward, done, _ = env_vec.step(action)\n",
    "    \n",
    "    \n",
    "    if done:\n",
    "        print('DONE')\n",
    "        break\n",
    "    \n",
    "    ## Append Observation & Reward\n",
    "    obs_save.append(obs) \n",
    "    rwd_save.append(reward) \n",
    "              \n",
    "    ## Vectorized version\n",
    "    PPO_RHO_SAVE.append((obs[0][0:51]*env.rs_desired+env.rs_desired).tolist())\n",
    "    PPO_VEL_SAVE.append((obs[0][51:]*env.vs_desired+env.vs_desired).tolist())\n",
    "    \n",
    "    ## Append Action\n",
    "    ACTION_VEC.append(action.detach().numpy())\n",
    "\n",
    "\n",
    "\n",
    "        \n",
    "    ## \n",
    "    tt += dt\n",
    "    TIME_VEC.append(tt)\n",
    "    \n",
    "    \n",
    "    \n",
    "\n",
    "    \n"
   ]
  },
  {
   "cell_type": "code",
   "execution_count": 36,
   "metadata": {},
   "outputs": [],
   "source": [
    "\n",
    "r_save_RL = np.array(PPO_RHO_SAVE)\n",
    "r_save_RL = r_save_RL.T\n",
    "\n",
    "v_save_RL = np.array(PPO_VEL_SAVE)\n",
    "v_save_RL = v_save_RL.T\n",
    "\n",
    "action_save_RL = np.array(ACTION_VEC)\n",
    "reward_save_RL = rwd_save"
   ]
  },
  {
   "cell_type": "code",
   "execution_count": 88,
   "metadata": {},
   "outputs": [
    {
     "data": {
      "application/javascript": [
       "/* Put everything inside the global mpl namespace */\n",
       "window.mpl = {};\n",
       "\n",
       "\n",
       "mpl.get_websocket_type = function() {\n",
       "    if (typeof(WebSocket) !== 'undefined') {\n",
       "        return WebSocket;\n",
       "    } else if (typeof(MozWebSocket) !== 'undefined') {\n",
       "        return MozWebSocket;\n",
       "    } else {\n",
       "        alert('Your browser does not have WebSocket support. ' +\n",
       "              'Please try Chrome, Safari or Firefox ≥ 6. ' +\n",
       "              'Firefox 4 and 5 are also supported but you ' +\n",
       "              'have to enable WebSockets in about:config.');\n",
       "    };\n",
       "}\n",
       "\n",
       "mpl.figure = function(figure_id, websocket, ondownload, parent_element) {\n",
       "    this.id = figure_id;\n",
       "\n",
       "    this.ws = websocket;\n",
       "\n",
       "    this.supports_binary = (this.ws.binaryType != undefined);\n",
       "\n",
       "    if (!this.supports_binary) {\n",
       "        var warnings = document.getElementById(\"mpl-warnings\");\n",
       "        if (warnings) {\n",
       "            warnings.style.display = 'block';\n",
       "            warnings.textContent = (\n",
       "                \"This browser does not support binary websocket messages. \" +\n",
       "                    \"Performance may be slow.\");\n",
       "        }\n",
       "    }\n",
       "\n",
       "    this.imageObj = new Image();\n",
       "\n",
       "    this.context = undefined;\n",
       "    this.message = undefined;\n",
       "    this.canvas = undefined;\n",
       "    this.rubberband_canvas = undefined;\n",
       "    this.rubberband_context = undefined;\n",
       "    this.format_dropdown = undefined;\n",
       "\n",
       "    this.image_mode = 'full';\n",
       "\n",
       "    this.root = $('<div/>');\n",
       "    this._root_extra_style(this.root)\n",
       "    this.root.attr('style', 'display: inline-block');\n",
       "\n",
       "    $(parent_element).append(this.root);\n",
       "\n",
       "    this._init_header(this);\n",
       "    this._init_canvas(this);\n",
       "    this._init_toolbar(this);\n",
       "\n",
       "    var fig = this;\n",
       "\n",
       "    this.waiting = false;\n",
       "\n",
       "    this.ws.onopen =  function () {\n",
       "            fig.send_message(\"supports_binary\", {value: fig.supports_binary});\n",
       "            fig.send_message(\"send_image_mode\", {});\n",
       "            if (mpl.ratio != 1) {\n",
       "                fig.send_message(\"set_dpi_ratio\", {'dpi_ratio': mpl.ratio});\n",
       "            }\n",
       "            fig.send_message(\"refresh\", {});\n",
       "        }\n",
       "\n",
       "    this.imageObj.onload = function() {\n",
       "            if (fig.image_mode == 'full') {\n",
       "                // Full images could contain transparency (where diff images\n",
       "                // almost always do), so we need to clear the canvas so that\n",
       "                // there is no ghosting.\n",
       "                fig.context.clearRect(0, 0, fig.canvas.width, fig.canvas.height);\n",
       "            }\n",
       "            fig.context.drawImage(fig.imageObj, 0, 0);\n",
       "        };\n",
       "\n",
       "    this.imageObj.onunload = function() {\n",
       "        fig.ws.close();\n",
       "    }\n",
       "\n",
       "    this.ws.onmessage = this._make_on_message_function(this);\n",
       "\n",
       "    this.ondownload = ondownload;\n",
       "}\n",
       "\n",
       "mpl.figure.prototype._init_header = function() {\n",
       "    var titlebar = $(\n",
       "        '<div class=\"ui-dialog-titlebar ui-widget-header ui-corner-all ' +\n",
       "        'ui-helper-clearfix\"/>');\n",
       "    var titletext = $(\n",
       "        '<div class=\"ui-dialog-title\" style=\"width: 100%; ' +\n",
       "        'text-align: center; padding: 3px;\"/>');\n",
       "    titlebar.append(titletext)\n",
       "    this.root.append(titlebar);\n",
       "    this.header = titletext[0];\n",
       "}\n",
       "\n",
       "\n",
       "\n",
       "mpl.figure.prototype._canvas_extra_style = function(canvas_div) {\n",
       "\n",
       "}\n",
       "\n",
       "\n",
       "mpl.figure.prototype._root_extra_style = function(canvas_div) {\n",
       "\n",
       "}\n",
       "\n",
       "mpl.figure.prototype._init_canvas = function() {\n",
       "    var fig = this;\n",
       "\n",
       "    var canvas_div = $('<div/>');\n",
       "\n",
       "    canvas_div.attr('style', 'position: relative; clear: both; outline: 0');\n",
       "\n",
       "    function canvas_keyboard_event(event) {\n",
       "        return fig.key_event(event, event['data']);\n",
       "    }\n",
       "\n",
       "    canvas_div.keydown('key_press', canvas_keyboard_event);\n",
       "    canvas_div.keyup('key_release', canvas_keyboard_event);\n",
       "    this.canvas_div = canvas_div\n",
       "    this._canvas_extra_style(canvas_div)\n",
       "    this.root.append(canvas_div);\n",
       "\n",
       "    var canvas = $('<canvas/>');\n",
       "    canvas.addClass('mpl-canvas');\n",
       "    canvas.attr('style', \"left: 0; top: 0; z-index: 0; outline: 0\")\n",
       "\n",
       "    this.canvas = canvas[0];\n",
       "    this.context = canvas[0].getContext(\"2d\");\n",
       "\n",
       "    var backingStore = this.context.backingStorePixelRatio ||\n",
       "\tthis.context.webkitBackingStorePixelRatio ||\n",
       "\tthis.context.mozBackingStorePixelRatio ||\n",
       "\tthis.context.msBackingStorePixelRatio ||\n",
       "\tthis.context.oBackingStorePixelRatio ||\n",
       "\tthis.context.backingStorePixelRatio || 1;\n",
       "\n",
       "    mpl.ratio = (window.devicePixelRatio || 1) / backingStore;\n",
       "\n",
       "    var rubberband = $('<canvas/>');\n",
       "    rubberband.attr('style', \"position: absolute; left: 0; top: 0; z-index: 1;\")\n",
       "\n",
       "    var pass_mouse_events = true;\n",
       "\n",
       "    canvas_div.resizable({\n",
       "        start: function(event, ui) {\n",
       "            pass_mouse_events = false;\n",
       "        },\n",
       "        resize: function(event, ui) {\n",
       "            fig.request_resize(ui.size.width, ui.size.height);\n",
       "        },\n",
       "        stop: function(event, ui) {\n",
       "            pass_mouse_events = true;\n",
       "            fig.request_resize(ui.size.width, ui.size.height);\n",
       "        },\n",
       "    });\n",
       "\n",
       "    function mouse_event_fn(event) {\n",
       "        if (pass_mouse_events)\n",
       "            return fig.mouse_event(event, event['data']);\n",
       "    }\n",
       "\n",
       "    rubberband.mousedown('button_press', mouse_event_fn);\n",
       "    rubberband.mouseup('button_release', mouse_event_fn);\n",
       "    // Throttle sequential mouse events to 1 every 20ms.\n",
       "    rubberband.mousemove('motion_notify', mouse_event_fn);\n",
       "\n",
       "    rubberband.mouseenter('figure_enter', mouse_event_fn);\n",
       "    rubberband.mouseleave('figure_leave', mouse_event_fn);\n",
       "\n",
       "    canvas_div.on(\"wheel\", function (event) {\n",
       "        event = event.originalEvent;\n",
       "        event['data'] = 'scroll'\n",
       "        if (event.deltaY < 0) {\n",
       "            event.step = 1;\n",
       "        } else {\n",
       "            event.step = -1;\n",
       "        }\n",
       "        mouse_event_fn(event);\n",
       "    });\n",
       "\n",
       "    canvas_div.append(canvas);\n",
       "    canvas_div.append(rubberband);\n",
       "\n",
       "    this.rubberband = rubberband;\n",
       "    this.rubberband_canvas = rubberband[0];\n",
       "    this.rubberband_context = rubberband[0].getContext(\"2d\");\n",
       "    this.rubberband_context.strokeStyle = \"#000000\";\n",
       "\n",
       "    this._resize_canvas = function(width, height) {\n",
       "        // Keep the size of the canvas, canvas container, and rubber band\n",
       "        // canvas in synch.\n",
       "        canvas_div.css('width', width)\n",
       "        canvas_div.css('height', height)\n",
       "\n",
       "        canvas.attr('width', width * mpl.ratio);\n",
       "        canvas.attr('height', height * mpl.ratio);\n",
       "        canvas.attr('style', 'width: ' + width + 'px; height: ' + height + 'px;');\n",
       "\n",
       "        rubberband.attr('width', width);\n",
       "        rubberband.attr('height', height);\n",
       "    }\n",
       "\n",
       "    // Set the figure to an initial 600x600px, this will subsequently be updated\n",
       "    // upon first draw.\n",
       "    this._resize_canvas(600, 600);\n",
       "\n",
       "    // Disable right mouse context menu.\n",
       "    $(this.rubberband_canvas).bind(\"contextmenu\",function(e){\n",
       "        return false;\n",
       "    });\n",
       "\n",
       "    function set_focus () {\n",
       "        canvas.focus();\n",
       "        canvas_div.focus();\n",
       "    }\n",
       "\n",
       "    window.setTimeout(set_focus, 100);\n",
       "}\n",
       "\n",
       "mpl.figure.prototype._init_toolbar = function() {\n",
       "    var fig = this;\n",
       "\n",
       "    var nav_element = $('<div/>');\n",
       "    nav_element.attr('style', 'width: 100%');\n",
       "    this.root.append(nav_element);\n",
       "\n",
       "    // Define a callback function for later on.\n",
       "    function toolbar_event(event) {\n",
       "        return fig.toolbar_button_onclick(event['data']);\n",
       "    }\n",
       "    function toolbar_mouse_event(event) {\n",
       "        return fig.toolbar_button_onmouseover(event['data']);\n",
       "    }\n",
       "\n",
       "    for(var toolbar_ind in mpl.toolbar_items) {\n",
       "        var name = mpl.toolbar_items[toolbar_ind][0];\n",
       "        var tooltip = mpl.toolbar_items[toolbar_ind][1];\n",
       "        var image = mpl.toolbar_items[toolbar_ind][2];\n",
       "        var method_name = mpl.toolbar_items[toolbar_ind][3];\n",
       "\n",
       "        if (!name) {\n",
       "            // put a spacer in here.\n",
       "            continue;\n",
       "        }\n",
       "        var button = $('<button/>');\n",
       "        button.addClass('ui-button ui-widget ui-state-default ui-corner-all ' +\n",
       "                        'ui-button-icon-only');\n",
       "        button.attr('role', 'button');\n",
       "        button.attr('aria-disabled', 'false');\n",
       "        button.click(method_name, toolbar_event);\n",
       "        button.mouseover(tooltip, toolbar_mouse_event);\n",
       "\n",
       "        var icon_img = $('<span/>');\n",
       "        icon_img.addClass('ui-button-icon-primary ui-icon');\n",
       "        icon_img.addClass(image);\n",
       "        icon_img.addClass('ui-corner-all');\n",
       "\n",
       "        var tooltip_span = $('<span/>');\n",
       "        tooltip_span.addClass('ui-button-text');\n",
       "        tooltip_span.html(tooltip);\n",
       "\n",
       "        button.append(icon_img);\n",
       "        button.append(tooltip_span);\n",
       "\n",
       "        nav_element.append(button);\n",
       "    }\n",
       "\n",
       "    var fmt_picker_span = $('<span/>');\n",
       "\n",
       "    var fmt_picker = $('<select/>');\n",
       "    fmt_picker.addClass('mpl-toolbar-option ui-widget ui-widget-content');\n",
       "    fmt_picker_span.append(fmt_picker);\n",
       "    nav_element.append(fmt_picker_span);\n",
       "    this.format_dropdown = fmt_picker[0];\n",
       "\n",
       "    for (var ind in mpl.extensions) {\n",
       "        var fmt = mpl.extensions[ind];\n",
       "        var option = $(\n",
       "            '<option/>', {selected: fmt === mpl.default_extension}).html(fmt);\n",
       "        fmt_picker.append(option);\n",
       "    }\n",
       "\n",
       "    // Add hover states to the ui-buttons\n",
       "    $( \".ui-button\" ).hover(\n",
       "        function() { $(this).addClass(\"ui-state-hover\");},\n",
       "        function() { $(this).removeClass(\"ui-state-hover\");}\n",
       "    );\n",
       "\n",
       "    var status_bar = $('<span class=\"mpl-message\"/>');\n",
       "    nav_element.append(status_bar);\n",
       "    this.message = status_bar[0];\n",
       "}\n",
       "\n",
       "mpl.figure.prototype.request_resize = function(x_pixels, y_pixels) {\n",
       "    // Request matplotlib to resize the figure. Matplotlib will then trigger a resize in the client,\n",
       "    // which will in turn request a refresh of the image.\n",
       "    this.send_message('resize', {'width': x_pixels, 'height': y_pixels});\n",
       "}\n",
       "\n",
       "mpl.figure.prototype.send_message = function(type, properties) {\n",
       "    properties['type'] = type;\n",
       "    properties['figure_id'] = this.id;\n",
       "    this.ws.send(JSON.stringify(properties));\n",
       "}\n",
       "\n",
       "mpl.figure.prototype.send_draw_message = function() {\n",
       "    if (!this.waiting) {\n",
       "        this.waiting = true;\n",
       "        this.ws.send(JSON.stringify({type: \"draw\", figure_id: this.id}));\n",
       "    }\n",
       "}\n",
       "\n",
       "\n",
       "mpl.figure.prototype.handle_save = function(fig, msg) {\n",
       "    var format_dropdown = fig.format_dropdown;\n",
       "    var format = format_dropdown.options[format_dropdown.selectedIndex].value;\n",
       "    fig.ondownload(fig, format);\n",
       "}\n",
       "\n",
       "\n",
       "mpl.figure.prototype.handle_resize = function(fig, msg) {\n",
       "    var size = msg['size'];\n",
       "    if (size[0] != fig.canvas.width || size[1] != fig.canvas.height) {\n",
       "        fig._resize_canvas(size[0], size[1]);\n",
       "        fig.send_message(\"refresh\", {});\n",
       "    };\n",
       "}\n",
       "\n",
       "mpl.figure.prototype.handle_rubberband = function(fig, msg) {\n",
       "    var x0 = msg['x0'] / mpl.ratio;\n",
       "    var y0 = (fig.canvas.height - msg['y0']) / mpl.ratio;\n",
       "    var x1 = msg['x1'] / mpl.ratio;\n",
       "    var y1 = (fig.canvas.height - msg['y1']) / mpl.ratio;\n",
       "    x0 = Math.floor(x0) + 0.5;\n",
       "    y0 = Math.floor(y0) + 0.5;\n",
       "    x1 = Math.floor(x1) + 0.5;\n",
       "    y1 = Math.floor(y1) + 0.5;\n",
       "    var min_x = Math.min(x0, x1);\n",
       "    var min_y = Math.min(y0, y1);\n",
       "    var width = Math.abs(x1 - x0);\n",
       "    var height = Math.abs(y1 - y0);\n",
       "\n",
       "    fig.rubberband_context.clearRect(\n",
       "        0, 0, fig.canvas.width / mpl.ratio, fig.canvas.height / mpl.ratio);\n",
       "\n",
       "    fig.rubberband_context.strokeRect(min_x, min_y, width, height);\n",
       "}\n",
       "\n",
       "mpl.figure.prototype.handle_figure_label = function(fig, msg) {\n",
       "    // Updates the figure title.\n",
       "    fig.header.textContent = msg['label'];\n",
       "}\n",
       "\n",
       "mpl.figure.prototype.handle_cursor = function(fig, msg) {\n",
       "    var cursor = msg['cursor'];\n",
       "    switch(cursor)\n",
       "    {\n",
       "    case 0:\n",
       "        cursor = 'pointer';\n",
       "        break;\n",
       "    case 1:\n",
       "        cursor = 'default';\n",
       "        break;\n",
       "    case 2:\n",
       "        cursor = 'crosshair';\n",
       "        break;\n",
       "    case 3:\n",
       "        cursor = 'move';\n",
       "        break;\n",
       "    }\n",
       "    fig.rubberband_canvas.style.cursor = cursor;\n",
       "}\n",
       "\n",
       "mpl.figure.prototype.handle_message = function(fig, msg) {\n",
       "    fig.message.textContent = msg['message'];\n",
       "}\n",
       "\n",
       "mpl.figure.prototype.handle_draw = function(fig, msg) {\n",
       "    // Request the server to send over a new figure.\n",
       "    fig.send_draw_message();\n",
       "}\n",
       "\n",
       "mpl.figure.prototype.handle_image_mode = function(fig, msg) {\n",
       "    fig.image_mode = msg['mode'];\n",
       "}\n",
       "\n",
       "mpl.figure.prototype.updated_canvas_event = function() {\n",
       "    // Called whenever the canvas gets updated.\n",
       "    this.send_message(\"ack\", {});\n",
       "}\n",
       "\n",
       "// A function to construct a web socket function for onmessage handling.\n",
       "// Called in the figure constructor.\n",
       "mpl.figure.prototype._make_on_message_function = function(fig) {\n",
       "    return function socket_on_message(evt) {\n",
       "        if (evt.data instanceof Blob) {\n",
       "            /* FIXME: We get \"Resource interpreted as Image but\n",
       "             * transferred with MIME type text/plain:\" errors on\n",
       "             * Chrome.  But how to set the MIME type?  It doesn't seem\n",
       "             * to be part of the websocket stream */\n",
       "            evt.data.type = \"image/png\";\n",
       "\n",
       "            /* Free the memory for the previous frames */\n",
       "            if (fig.imageObj.src) {\n",
       "                (window.URL || window.webkitURL).revokeObjectURL(\n",
       "                    fig.imageObj.src);\n",
       "            }\n",
       "\n",
       "            fig.imageObj.src = (window.URL || window.webkitURL).createObjectURL(\n",
       "                evt.data);\n",
       "            fig.updated_canvas_event();\n",
       "            fig.waiting = false;\n",
       "            return;\n",
       "        }\n",
       "        else if (typeof evt.data === 'string' && evt.data.slice(0, 21) == \"data:image/png;base64\") {\n",
       "            fig.imageObj.src = evt.data;\n",
       "            fig.updated_canvas_event();\n",
       "            fig.waiting = false;\n",
       "            return;\n",
       "        }\n",
       "\n",
       "        var msg = JSON.parse(evt.data);\n",
       "        var msg_type = msg['type'];\n",
       "\n",
       "        // Call the  \"handle_{type}\" callback, which takes\n",
       "        // the figure and JSON message as its only arguments.\n",
       "        try {\n",
       "            var callback = fig[\"handle_\" + msg_type];\n",
       "        } catch (e) {\n",
       "            console.log(\"No handler for the '\" + msg_type + \"' message type: \", msg);\n",
       "            return;\n",
       "        }\n",
       "\n",
       "        if (callback) {\n",
       "            try {\n",
       "                // console.log(\"Handling '\" + msg_type + \"' message: \", msg);\n",
       "                callback(fig, msg);\n",
       "            } catch (e) {\n",
       "                console.log(\"Exception inside the 'handler_\" + msg_type + \"' callback:\", e, e.stack, msg);\n",
       "            }\n",
       "        }\n",
       "    };\n",
       "}\n",
       "\n",
       "// from http://stackoverflow.com/questions/1114465/getting-mouse-location-in-canvas\n",
       "mpl.findpos = function(e) {\n",
       "    //this section is from http://www.quirksmode.org/js/events_properties.html\n",
       "    var targ;\n",
       "    if (!e)\n",
       "        e = window.event;\n",
       "    if (e.target)\n",
       "        targ = e.target;\n",
       "    else if (e.srcElement)\n",
       "        targ = e.srcElement;\n",
       "    if (targ.nodeType == 3) // defeat Safari bug\n",
       "        targ = targ.parentNode;\n",
       "\n",
       "    // jQuery normalizes the pageX and pageY\n",
       "    // pageX,Y are the mouse positions relative to the document\n",
       "    // offset() returns the position of the element relative to the document\n",
       "    var x = e.pageX - $(targ).offset().left;\n",
       "    var y = e.pageY - $(targ).offset().top;\n",
       "\n",
       "    return {\"x\": x, \"y\": y};\n",
       "};\n",
       "\n",
       "/*\n",
       " * return a copy of an object with only non-object keys\n",
       " * we need this to avoid circular references\n",
       " * http://stackoverflow.com/a/24161582/3208463\n",
       " */\n",
       "function simpleKeys (original) {\n",
       "  return Object.keys(original).reduce(function (obj, key) {\n",
       "    if (typeof original[key] !== 'object')\n",
       "        obj[key] = original[key]\n",
       "    return obj;\n",
       "  }, {});\n",
       "}\n",
       "\n",
       "mpl.figure.prototype.mouse_event = function(event, name) {\n",
       "    var canvas_pos = mpl.findpos(event)\n",
       "\n",
       "    if (name === 'button_press')\n",
       "    {\n",
       "        this.canvas.focus();\n",
       "        this.canvas_div.focus();\n",
       "    }\n",
       "\n",
       "    var x = canvas_pos.x * mpl.ratio;\n",
       "    var y = canvas_pos.y * mpl.ratio;\n",
       "\n",
       "    this.send_message(name, {x: x, y: y, button: event.button,\n",
       "                             step: event.step,\n",
       "                             guiEvent: simpleKeys(event)});\n",
       "\n",
       "    /* This prevents the web browser from automatically changing to\n",
       "     * the text insertion cursor when the button is pressed.  We want\n",
       "     * to control all of the cursor setting manually through the\n",
       "     * 'cursor' event from matplotlib */\n",
       "    event.preventDefault();\n",
       "    return false;\n",
       "}\n",
       "\n",
       "mpl.figure.prototype._key_event_extra = function(event, name) {\n",
       "    // Handle any extra behaviour associated with a key event\n",
       "}\n",
       "\n",
       "mpl.figure.prototype.key_event = function(event, name) {\n",
       "\n",
       "    // Prevent repeat events\n",
       "    if (name == 'key_press')\n",
       "    {\n",
       "        if (event.which === this._key)\n",
       "            return;\n",
       "        else\n",
       "            this._key = event.which;\n",
       "    }\n",
       "    if (name == 'key_release')\n",
       "        this._key = null;\n",
       "\n",
       "    var value = '';\n",
       "    if (event.ctrlKey && event.which != 17)\n",
       "        value += \"ctrl+\";\n",
       "    if (event.altKey && event.which != 18)\n",
       "        value += \"alt+\";\n",
       "    if (event.shiftKey && event.which != 16)\n",
       "        value += \"shift+\";\n",
       "\n",
       "    value += 'k';\n",
       "    value += event.which.toString();\n",
       "\n",
       "    this._key_event_extra(event, name);\n",
       "\n",
       "    this.send_message(name, {key: value,\n",
       "                             guiEvent: simpleKeys(event)});\n",
       "    return false;\n",
       "}\n",
       "\n",
       "mpl.figure.prototype.toolbar_button_onclick = function(name) {\n",
       "    if (name == 'download') {\n",
       "        this.handle_save(this, null);\n",
       "    } else {\n",
       "        this.send_message(\"toolbar_button\", {name: name});\n",
       "    }\n",
       "};\n",
       "\n",
       "mpl.figure.prototype.toolbar_button_onmouseover = function(tooltip) {\n",
       "    this.message.textContent = tooltip;\n",
       "};\n",
       "mpl.toolbar_items = [[\"Home\", \"Reset original view\", \"fa fa-home icon-home\", \"home\"], [\"Back\", \"Back to previous view\", \"fa fa-arrow-left icon-arrow-left\", \"back\"], [\"Forward\", \"Forward to next view\", \"fa fa-arrow-right icon-arrow-right\", \"forward\"], [\"\", \"\", \"\", \"\"], [\"Pan\", \"Pan axes with left mouse, zoom with right\", \"fa fa-arrows icon-move\", \"pan\"], [\"Zoom\", \"Zoom to rectangle\", \"fa fa-square-o icon-check-empty\", \"zoom\"], [\"\", \"\", \"\", \"\"], [\"Download\", \"Download plot\", \"fa fa-floppy-o icon-save\", \"download\"]];\n",
       "\n",
       "mpl.extensions = [\"eps\", \"jpeg\", \"pdf\", \"png\", \"ps\", \"raw\", \"svg\", \"tif\"];\n",
       "\n",
       "mpl.default_extension = \"png\";var comm_websocket_adapter = function(comm) {\n",
       "    // Create a \"websocket\"-like object which calls the given IPython comm\n",
       "    // object with the appropriate methods. Currently this is a non binary\n",
       "    // socket, so there is still some room for performance tuning.\n",
       "    var ws = {};\n",
       "\n",
       "    ws.close = function() {\n",
       "        comm.close()\n",
       "    };\n",
       "    ws.send = function(m) {\n",
       "        //console.log('sending', m);\n",
       "        comm.send(m);\n",
       "    };\n",
       "    // Register the callback with on_msg.\n",
       "    comm.on_msg(function(msg) {\n",
       "        //console.log('receiving', msg['content']['data'], msg);\n",
       "        // Pass the mpl event to the overridden (by mpl) onmessage function.\n",
       "        ws.onmessage(msg['content']['data'])\n",
       "    });\n",
       "    return ws;\n",
       "}\n",
       "\n",
       "mpl.mpl_figure_comm = function(comm, msg) {\n",
       "    // This is the function which gets called when the mpl process\n",
       "    // starts-up an IPython Comm through the \"matplotlib\" channel.\n",
       "\n",
       "    var id = msg.content.data.id;\n",
       "    // Get hold of the div created by the display call when the Comm\n",
       "    // socket was opened in Python.\n",
       "    var element = $(\"#\" + id);\n",
       "    var ws_proxy = comm_websocket_adapter(comm)\n",
       "\n",
       "    function ondownload(figure, format) {\n",
       "        window.open(figure.imageObj.src);\n",
       "    }\n",
       "\n",
       "    var fig = new mpl.figure(id, ws_proxy,\n",
       "                           ondownload,\n",
       "                           element.get(0));\n",
       "\n",
       "    // Call onopen now - mpl needs it, as it is assuming we've passed it a real\n",
       "    // web socket which is closed, not our websocket->open comm proxy.\n",
       "    ws_proxy.onopen();\n",
       "\n",
       "    fig.parent_element = element.get(0);\n",
       "    fig.cell_info = mpl.find_output_cell(\"<div id='\" + id + \"'></div>\");\n",
       "    if (!fig.cell_info) {\n",
       "        console.error(\"Failed to find cell for figure\", id, fig);\n",
       "        return;\n",
       "    }\n",
       "\n",
       "    var output_index = fig.cell_info[2]\n",
       "    var cell = fig.cell_info[0];\n",
       "\n",
       "};\n",
       "\n",
       "mpl.figure.prototype.handle_close = function(fig, msg) {\n",
       "    var width = fig.canvas.width/mpl.ratio\n",
       "    fig.root.unbind('remove')\n",
       "\n",
       "    // Update the output cell to use the data from the current canvas.\n",
       "    fig.push_to_output();\n",
       "    var dataURL = fig.canvas.toDataURL();\n",
       "    // Re-enable the keyboard manager in IPython - without this line, in FF,\n",
       "    // the notebook keyboard shortcuts fail.\n",
       "    IPython.keyboard_manager.enable()\n",
       "    $(fig.parent_element).html('<img src=\"' + dataURL + '\" width=\"' + width + '\">');\n",
       "    fig.close_ws(fig, msg);\n",
       "}\n",
       "\n",
       "mpl.figure.prototype.close_ws = function(fig, msg){\n",
       "    fig.send_message('closing', msg);\n",
       "    // fig.ws.close()\n",
       "}\n",
       "\n",
       "mpl.figure.prototype.push_to_output = function(remove_interactive) {\n",
       "    // Turn the data on the canvas into data in the output cell.\n",
       "    var width = this.canvas.width/mpl.ratio\n",
       "    var dataURL = this.canvas.toDataURL();\n",
       "    this.cell_info[1]['text/html'] = '<img src=\"' + dataURL + '\" width=\"' + width + '\">';\n",
       "}\n",
       "\n",
       "mpl.figure.prototype.updated_canvas_event = function() {\n",
       "    // Tell IPython that the notebook contents must change.\n",
       "    IPython.notebook.set_dirty(true);\n",
       "    this.send_message(\"ack\", {});\n",
       "    var fig = this;\n",
       "    // Wait a second, then push the new image to the DOM so\n",
       "    // that it is saved nicely (might be nice to debounce this).\n",
       "    setTimeout(function () { fig.push_to_output() }, 1000);\n",
       "}\n",
       "\n",
       "mpl.figure.prototype._init_toolbar = function() {\n",
       "    var fig = this;\n",
       "\n",
       "    var nav_element = $('<div/>');\n",
       "    nav_element.attr('style', 'width: 100%');\n",
       "    this.root.append(nav_element);\n",
       "\n",
       "    // Define a callback function for later on.\n",
       "    function toolbar_event(event) {\n",
       "        return fig.toolbar_button_onclick(event['data']);\n",
       "    }\n",
       "    function toolbar_mouse_event(event) {\n",
       "        return fig.toolbar_button_onmouseover(event['data']);\n",
       "    }\n",
       "\n",
       "    for(var toolbar_ind in mpl.toolbar_items){\n",
       "        var name = mpl.toolbar_items[toolbar_ind][0];\n",
       "        var tooltip = mpl.toolbar_items[toolbar_ind][1];\n",
       "        var image = mpl.toolbar_items[toolbar_ind][2];\n",
       "        var method_name = mpl.toolbar_items[toolbar_ind][3];\n",
       "\n",
       "        if (!name) { continue; };\n",
       "\n",
       "        var button = $('<button class=\"btn btn-default\" href=\"#\" title=\"' + name + '\"><i class=\"fa ' + image + ' fa-lg\"></i></button>');\n",
       "        button.click(method_name, toolbar_event);\n",
       "        button.mouseover(tooltip, toolbar_mouse_event);\n",
       "        nav_element.append(button);\n",
       "    }\n",
       "\n",
       "    // Add the status bar.\n",
       "    var status_bar = $('<span class=\"mpl-message\" style=\"text-align:right; float: right;\"/>');\n",
       "    nav_element.append(status_bar);\n",
       "    this.message = status_bar[0];\n",
       "\n",
       "    // Add the close button to the window.\n",
       "    var buttongrp = $('<div class=\"btn-group inline pull-right\"></div>');\n",
       "    var button = $('<button class=\"btn btn-mini btn-primary\" href=\"#\" title=\"Stop Interaction\"><i class=\"fa fa-power-off icon-remove icon-large\"></i></button>');\n",
       "    button.click(function (evt) { fig.handle_close(fig, {}); } );\n",
       "    button.mouseover('Stop Interaction', toolbar_mouse_event);\n",
       "    buttongrp.append(button);\n",
       "    var titlebar = this.root.find($('.ui-dialog-titlebar'));\n",
       "    titlebar.prepend(buttongrp);\n",
       "}\n",
       "\n",
       "mpl.figure.prototype._root_extra_style = function(el){\n",
       "    var fig = this\n",
       "    el.on(\"remove\", function(){\n",
       "\tfig.close_ws(fig, {});\n",
       "    });\n",
       "}\n",
       "\n",
       "mpl.figure.prototype._canvas_extra_style = function(el){\n",
       "    // this is important to make the div 'focusable\n",
       "    el.attr('tabindex', 0)\n",
       "    // reach out to IPython and tell the keyboard manager to turn it's self\n",
       "    // off when our div gets focus\n",
       "\n",
       "    // location in version 3\n",
       "    if (IPython.notebook.keyboard_manager) {\n",
       "        IPython.notebook.keyboard_manager.register_events(el);\n",
       "    }\n",
       "    else {\n",
       "        // location in version 2\n",
       "        IPython.keyboard_manager.register_events(el);\n",
       "    }\n",
       "\n",
       "}\n",
       "\n",
       "mpl.figure.prototype._key_event_extra = function(event, name) {\n",
       "    var manager = IPython.notebook.keyboard_manager;\n",
       "    if (!manager)\n",
       "        manager = IPython.keyboard_manager;\n",
       "\n",
       "    // Check for shift+enter\n",
       "    if (event.shiftKey && event.which == 13) {\n",
       "        this.canvas_div.blur();\n",
       "        // select the cell after this one\n",
       "        var index = IPython.notebook.find_cell_index(this.cell_info[0]);\n",
       "        IPython.notebook.select(index + 1);\n",
       "    }\n",
       "}\n",
       "\n",
       "mpl.figure.prototype.handle_save = function(fig, msg) {\n",
       "    fig.ondownload(fig, null);\n",
       "}\n",
       "\n",
       "\n",
       "mpl.find_output_cell = function(html_output) {\n",
       "    // Return the cell and output element which can be found *uniquely* in the notebook.\n",
       "    // Note - this is a bit hacky, but it is done because the \"notebook_saving.Notebook\"\n",
       "    // IPython event is triggered only after the cells have been serialised, which for\n",
       "    // our purposes (turning an active figure into a static one), is too late.\n",
       "    var cells = IPython.notebook.get_cells();\n",
       "    var ncells = cells.length;\n",
       "    for (var i=0; i<ncells; i++) {\n",
       "        var cell = cells[i];\n",
       "        if (cell.cell_type === 'code'){\n",
       "            for (var j=0; j<cell.output_area.outputs.length; j++) {\n",
       "                var data = cell.output_area.outputs[j];\n",
       "                if (data.data) {\n",
       "                    // IPython >= 3 moved mimebundle to data attribute of output\n",
       "                    data = data.data;\n",
       "                }\n",
       "                if (data['text/html'] == html_output) {\n",
       "                    return [cell, data, j];\n",
       "                }\n",
       "            }\n",
       "        }\n",
       "    }\n",
       "}\n",
       "\n",
       "// Register the function which deals with the matplotlib target/channel.\n",
       "// The kernel may be null if the page has been refreshed.\n",
       "if (IPython.notebook.kernel != null) {\n",
       "    IPython.notebook.kernel.comm_manager.register_target('matplotlib', mpl.mpl_figure_comm);\n",
       "}\n"
      ],
      "text/plain": [
       "<IPython.core.display.Javascript object>"
      ]
     },
     "metadata": {},
     "output_type": "display_data"
    },
    {
     "data": {
      "text/html": [
       "<img src=\"data:image/png;base64,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\" width=\"639.85\">"
      ],
      "text/plain": [
       "<IPython.core.display.HTML object>"
      ]
     },
     "metadata": {},
     "output_type": "display_data"
    },
    {
     "data": {
      "text/plain": [
       "[<mpl_toolkits.mplot3d.art3d.Line3D at 0x7fe2e36af0f0>]"
      ]
     },
     "execution_count": 88,
     "metadata": {},
     "output_type": "execute_result"
    }
   ],
   "source": [
    "from mpl_toolkits.mplot3d import Axes3D\n",
    "%matplotlib notebook\n",
    "\n",
    "\n",
    "## create meshgrid\n",
    "L = settings['L']  #[m]\n",
    "dx = settings['dx']\n",
    "x = np.arange(0,L+dx,dx)\n",
    "t = np.arange(0,T,dt)\n",
    "\n",
    "xx, tt = np.meshgrid(x,t,indexing='ij')\n",
    "\n",
    "\n",
    "fig = plt.figure()\n",
    "ax = fig.add_subplot(111, projection='3d')\n",
    "ax.set_xlabel('Position x [m]')\n",
    "ax.set_ylabel('Time [sec]')\n",
    "ax.set_zlabel('Density [veh/km]')\n",
    "ax.set_title(r'$\\rho$')\n",
    "ax.plot_surface(xx[0:,0:],tt[0:,0:],r_save_RL[0:,0:],cmap=plt.cm.gray,edgecolors='#000000',linewidth=0.1,antialiased=False,rstride=1,cstride=100)\n",
    "ax.plot(xx[:,0],tt[:,0],r_save_RL[:,0],color='blue',LineWidth=4)\n",
    "ax.plot(xx[-1,:],tt[-1,:],r_save_RL[-1,:],color='red',LineWidth=4)\n"
   ]
  },
  {
   "cell_type": "code",
   "execution_count": 55,
   "metadata": {},
   "outputs": [
    {
     "data": {
      "text/plain": [
       "[<mpl_toolkits.mplot3d.art3d.Line3D at 0x7fe3067449b0>]"
      ]
     },
     "execution_count": 55,
     "metadata": {},
     "output_type": "execute_result"
    },
    {
     "data": {
      "image/png": "[encoded data removed]",
      "text/plain": [
       "<Figure size 432x288 with 1 Axes>"
      ]
     },
     "metadata": {
      "needs_background": "light"
     },
     "output_type": "display_data"
    }
   ],
   "source": [
    "from mpl_toolkits.mplot3d import Axes3D\n",
    "\n",
    "## create meshgrid\n",
    "L = settings['L'] #[m]\n",
    "dx = settings['dx']\n",
    "x = np.arange(0,L+dx,dx)\n",
    "t = np.arange(0,T,dt)\n",
    "\n",
    "xx, tt = np.meshgrid(x,t,indexing='ij')\n",
    "\n",
    "\n",
    "fig = plt.figure()\n",
    "ax = fig.add_subplot(111, projection='3d')\n",
    "ax.set_xlabel('Position x [m]')\n",
    "ax.set_ylabel('Time [min]')\n",
    "ax.set_zlabel('Velocity [m/s]')\n",
    "ax.set_title(r'$V$')\n",
    "ax.plot_surface(xx[0:,0:],tt[0:,0:],v_save_RL[0:,0:],cmap=plt.cm.gray,edgecolors='#000000',linewidth=1,antialiased=True,rstride=1,cstride=100)\n",
    "ax.plot(xx[:,0],tt[:,0],v_save_RL[:,0],color='blue',LineWidth=4)\n"
   ]
  },
  {
   "cell_type": "markdown",
   "metadata": {},
   "source": [
    "### PPO REWARD PLOT"
   ]
  },
  {
   "cell_type": "code",
   "execution_count": 56,
   "metadata": {},
   "outputs": [
    {
     "data": {
      "image/png": "[encoded data removed]",
      "text/plain": [
       "<Figure size 576x288 with 1 Axes>"
      ]
     },
     "metadata": {
      "needs_background": "light"
     },
     "output_type": "display_data"
    }
   ],
   "source": [
    "import numpy as np\n",
    "import matplotlib.pyplot as plt\n",
    "from mpl_toolkits.mplot3d import Axes3D\n",
    "\n",
    "fig, ax1 = plt.subplots(figsize=(8,4))\n",
    "\n",
    "rwd_save_PPO = np.array(reward_save_RL)\n",
    "\n",
    "plt.plot(TIME_VEC[:-1],reward_save_RL)\n",
    "plt.xlabel('Time [sec]')\n",
    "plt.ylabel('Reward')\n",
    "plt.title('PPO Reward')\n",
    "plt.grid(True)\n",
    "plt.show()"
   ]
  },
  {
   "cell_type": "code",
   "execution_count": 57,
   "metadata": {},
   "outputs": [
    {
     "data": {
      "text/plain": [
       "-105.22413613367826"
      ]
     },
     "execution_count": 57,
     "metadata": {},
     "output_type": "execute_result"
    }
   ],
   "source": [
    "sum(rwd_save_PPO)"
   ]
  },
  {
   "cell_type": "code",
   "execution_count": 58,
   "metadata": {},
   "outputs": [],
   "source": [
    "q_save_RL = r_save_RL * v_save_RL"
   ]
  },
  {
   "cell_type": "code",
   "execution_count": 59,
   "metadata": {},
   "outputs": [
    {
     "data": {
      "text/plain": [
       "Text(0.5, 0, 'Time [sec]')"
      ]
     },
     "execution_count": 59,
     "metadata": {},
     "output_type": "execute_result"
    },
    {
     "data": {
      "image/png": "[encoded data removed]",
      "text/plain": [
       "<Figure size 576x288 with 1 Axes>"
      ]
     },
     "metadata": {
      "needs_background": "light"
     },
     "output_type": "display_data"
    }
   ],
   "source": [
    "fig, ax1 = plt.subplots(figsize=(8,4))\n",
    "\n",
    "plt.plot(r_save_RL[-1,:])\n",
    "plt.ylabel('r(L,t)')\n",
    "plt.xlabel('Time [sec]')"
   ]
  },
  {
   "cell_type": "code",
   "execution_count": 60,
   "metadata": {},
   "outputs": [
    {
     "data": {
      "image/png": "[encoded data removed]",
      "text/plain": [
       "<Figure size 432x288 with 1 Axes>"
      ]
     },
     "metadata": {
      "needs_background": "light"
     },
     "output_type": "display_data"
    }
   ],
   "source": [
    "plt.plot(r_save_RL[-1,:]*v_save_RL[-1,:])\n",
    "plt.show()"
   ]
  },
  {
   "cell_type": "code",
   "execution_count": 61,
   "metadata": {},
   "outputs": [
    {
     "data": {
      "text/plain": [
       "Text(0.5, 0, 'Time [sec]')"
      ]
     },
     "execution_count": 61,
     "metadata": {},
     "output_type": "execute_result"
    },
    {
     "data": {
      "image/png": "[encoded data removed]",
      "text/plain": [
       "<Figure size 432x288 with 1 Axes>"
      ]
     },
     "metadata": {
      "needs_background": "light"
     },
     "output_type": "display_data"
    }
   ],
   "source": [
    "fig, ax1 = plt.subplots(figsize=(6,4))\n",
    "\n",
    "plt.plot(q_save_RL[-1,:])\n",
    "plt.ylabel('q(L,t)')\n",
    "plt.xlabel('Time [sec]')"
   ]
  },
  {
   "cell_type": "code",
   "execution_count": 62,
   "metadata": {
    "scrolled": true
   },
   "outputs": [
    {
     "data": {
      "text/plain": [
       "Text(0.5, 0, 'Time [sec]')"
      ]
     },
     "execution_count": 62,
     "metadata": {},
     "output_type": "execute_result"
    },
    {
     "data": {
      "image/png": "[encoded data removed]",
      "text/plain": [
       "<Figure size 432x288 with 1 Axes>"
      ]
     },
     "metadata": {
      "needs_background": "light"
     },
     "output_type": "display_data"
    }
   ],
   "source": [
    "fig, ax1 = plt.subplots(figsize=(6,4))\n",
    "\n",
    "plt.plot(q_save_RL[0,:])\n",
    "plt.ylabel('q(0,t)')\n",
    "plt.xlabel('Time [sec]')"
   ]
  },
  {
   "cell_type": "code",
   "execution_count": 63,
   "metadata": {},
   "outputs": [
    {
     "data": {
      "text/plain": [
       "Text(0.5, 0, 'Time [sec]')"
      ]
     },
     "execution_count": 63,
     "metadata": {},
     "output_type": "execute_result"
    },
    {
     "data": {
      "image/png": "[encoded data removed]",
      "text/plain": [
       "<Figure size 432x288 with 1 Axes>"
      ]
     },
     "metadata": {
      "needs_background": "light"
     },
     "output_type": "display_data"
    }
   ],
   "source": [
    "fig, ax1 = plt.subplots(figsize=(6,4))\n",
    "\n",
    "plt.plot(q_save_RL[-2,:])\n",
    "plt.ylabel('q(L-1,t)')\n",
    "plt.xlabel('Time [sec]')"
   ]
  },
  {
   "cell_type": "code",
   "execution_count": 64,
   "metadata": {},
   "outputs": [
    {
     "data": {
      "text/plain": [
       "Text(0.5, 0, 'Time [sec]')"
      ]
     },
     "execution_count": 64,
     "metadata": {},
     "output_type": "execute_result"
    },
    {
     "data": {
      "image/png": "[encoded data removed]",
      "text/plain": [
       "<Figure size 432x288 with 1 Axes>"
      ]
     },
     "metadata": {
      "needs_background": "light"
     },
     "output_type": "display_data"
    }
   ],
   "source": [
    "fig, ax1 = plt.subplots(figsize=(6,4))\n",
    "\n",
    "plt.plot(q_save_RL[-1,:])\n",
    "plt.ylabel('q(L,t)')\n",
    "plt.xlabel('Time [sec]')"
   ]
  },
  {
   "cell_type": "code",
   "execution_count": 65,
   "metadata": {},
   "outputs": [
    {
     "data": {
      "text/plain": [
       "array([1.2432909], dtype=float32)"
      ]
     },
     "execution_count": 65,
     "metadata": {},
     "output_type": "execute_result"
    }
   ],
   "source": [
    "action_save_RL[1]"
   ]
  },
  {
   "cell_type": "code",
   "execution_count": 66,
   "metadata": {},
   "outputs": [
    {
     "data": {
      "text/plain": [
       "(1920,)"
      ]
     },
     "execution_count": 66,
     "metadata": {},
     "output_type": "execute_result"
    }
   ],
   "source": [
    "action_save_RL.shape"
   ]
  },
  {
   "cell_type": "code",
   "execution_count": 68,
   "metadata": {},
   "outputs": [
    {
     "data": {
      "image/png": "[encoded data removed]",
      "text/plain": [
       "<Figure size 432x288 with 1 Axes>"
      ]
     },
     "metadata": {
      "needs_background": "light"
     },
     "output_type": "display_data"
    }
   ],
   "source": [
    "fig, ax1 = plt.subplots(figsize=(6,4))\n",
    "\n",
    "plt.plot(action_save_RL[1:-1,1])\n",
    "plt.xlabel('Time [sec]')\n",
    "plt.ylabel('q(L,t)')\n",
    "plt.title('INPUT SHAPE')\n",
    "plt.grid(True)\n",
    "plt.show()"
   ]
  },
  {
   "cell_type": "code",
   "execution_count": 69,
   "metadata": {},
   "outputs": [
    {
     "ename": "IndexError",
     "evalue": "too many indices for array",
     "output_type": "error",
     "traceback": [
      "\u001b[0;31m---------------------------------------------------------------------------\u001b[0m",
      "\u001b[0;31mIndexError\u001b[0m                                Traceback (most recent call last)",
      "\u001b[0;32m<ipython-input-69-0cd10160b79f>\u001b[0m in \u001b[0;36m<module>\u001b[0;34m\u001b[0m\n\u001b[1;32m      1\u001b[0m \u001b[0mfig\u001b[0m\u001b[0;34m,\u001b[0m \u001b[0max1\u001b[0m \u001b[0;34m=\u001b[0m \u001b[0mplt\u001b[0m\u001b[0;34m.\u001b[0m\u001b[0msubplots\u001b[0m\u001b[0;34m(\u001b[0m\u001b[0mfigsize\u001b[0m\u001b[0;34m=\u001b[0m\u001b[0;34m(\u001b[0m\u001b[0;36m6\u001b[0m\u001b[0;34m,\u001b[0m\u001b[0;36m4\u001b[0m\u001b[0;34m)\u001b[0m\u001b[0;34m)\u001b[0m\u001b[0;34m\u001b[0m\u001b[0;34m\u001b[0m\u001b[0m\n\u001b[1;32m      2\u001b[0m \u001b[0;34m\u001b[0m\u001b[0m\n\u001b[0;32m----> 3\u001b[0;31m \u001b[0mplt\u001b[0m\u001b[0;34m.\u001b[0m\u001b[0mplot\u001b[0m\u001b[0;34m(\u001b[0m\u001b[0maction_save_RL\u001b[0m\u001b[0;34m[\u001b[0m\u001b[0;36m1\u001b[0m\u001b[0;34m:\u001b[0m\u001b[0;34m-\u001b[0m\u001b[0;36m1\u001b[0m\u001b[0;34m,\u001b[0m\u001b[0;36m0\u001b[0m\u001b[0;34m]\u001b[0m\u001b[0;34m)\u001b[0m\u001b[0;34m\u001b[0m\u001b[0;34m\u001b[0m\u001b[0m\n\u001b[0m\u001b[1;32m      4\u001b[0m \u001b[0mplt\u001b[0m\u001b[0;34m.\u001b[0m\u001b[0mxlabel\u001b[0m\u001b[0;34m(\u001b[0m\u001b[0;34m'Time [sec]'\u001b[0m\u001b[0;34m)\u001b[0m\u001b[0;34m\u001b[0m\u001b[0;34m\u001b[0m\u001b[0m\n\u001b[1;32m      5\u001b[0m \u001b[0mplt\u001b[0m\u001b[0;34m.\u001b[0m\u001b[0mylabel\u001b[0m\u001b[0;34m(\u001b[0m\u001b[0;34m'q(0,t)'\u001b[0m\u001b[0;34m)\u001b[0m\u001b[0;34m\u001b[0m\u001b[0;34m\u001b[0m\u001b[0m\n",
      "\u001b[0;31mIndexError\u001b[0m: too many indices for array"
     ]
    },
    {
     "data": {
      "image/png": "[encoded data removed]",
      "text/plain": [
       "<Figure size 432x288 with 1 Axes>"
      ]
     },
     "metadata": {
      "needs_background": "light"
     },
     "output_type": "display_data"
    }
   ],
   "source": [
    "fig, ax1 = plt.subplots(figsize=(6,4))\n",
    "\n",
    "plt.plot(action_save_RL[1:-1,0])\n",
    "plt.xlabel('Time [sec]')\n",
    "plt.ylabel('q(0,t)')\n",
    "plt.title('INPUT SHAPE')\n",
    "plt.grid(True)\n",
    "plt.show()"
   ]
  },
  {
   "cell_type": "code",
   "execution_count": null,
   "metadata": {},
   "outputs": [],
   "source": [
    "import scipy.io as sio\n",
    "sio.savemat('ARZ_python_result_RL_Stochastic_rs0115_480.mat',{'r_vec_RL':r_save_RL, 'v_vec_RL':v_save_RL, 'rwd_RL' : reward_save_RL, 'input_RL': action_save_RL, 'xx': xx, 'tt' : tt})"
   ]
  },
  {
   "cell_type": "markdown",
   "metadata": {},
   "source": [
    "//////////////////////////////////\n",
    "여기까지 진행함. 2020.05.18\n",
    "/////////////////////////////////"
   ]
  },
  {
   "cell_type": "markdown",
   "metadata": {},
   "source": [
    "## Use 'PPO_input' to environment"
   ]
  },
  {
   "cell_type": "code",
   "execution_count": null,
   "metadata": {},
   "outputs": [],
   "source": [
    "env.reset()\n",
    "obs_save = []\n",
    "rwd_save = []\n",
    "\n",
    "\n",
    "for i in range(len(PPO_input_save)):\n",
    "    obs, reward, done, _ = env.step(PPO_input_save[i][0][0].numpy())\n",
    "    obs_save.append(obs)\n",
    "    rwd_save.append(reward)\n",
    "    \n",
    "    \n",
    "plt.plot(rwd_save)\n",
    "plt.show()    "
   ]
  },
  {
   "cell_type": "markdown",
   "metadata": {},
   "source": [
    "### PDE BackStepping REWARD PLOT"
   ]
  },
  {
   "cell_type": "code",
   "execution_count": null,
   "metadata": {},
   "outputs": [],
   "source": [
    "plt.plot(t,reward_save,label='Benchmark')\n",
    "plt.plot(t[:-1],rwd_save, label='PPO')\n",
    "plt.xlabel('Time [sec]')\n",
    "plt.ylabel('Reward')\n",
    "plt.title('Reward Comparison')\n",
    "plt.grid(True)\n",
    "plt.legend()\n",
    "plt.show()"
   ]
  },
  {
   "cell_type": "markdown",
   "metadata": {},
   "source": [
    "### PPO INPUT PLOT"
   ]
  },
  {
   "cell_type": "code",
   "execution_count": null,
   "metadata": {},
   "outputs": [],
   "source": [
    "import numpy as np\n",
    "import matplotlib.pyplot as plt\n",
    "from mpl_toolkits.mplot3d import Axes3D\n",
    "\n",
    "plt.plot(t[:-1],PPO_input_save)\n",
    "plt.xlabel('Time [sec]')\n",
    "plt.ylabel('qs_input')\n",
    "plt.title('PPO INPUT')\n",
    "plt.grid(True)\n",
    "plt.show()"
   ]
  },
  {
   "cell_type": "markdown",
   "metadata": {},
   "source": [
    "### PDE BackStepping INPUT PLOT"
   ]
  },
  {
   "cell_type": "code",
   "execution_count": null,
   "metadata": {},
   "outputs": [],
   "source": [
    "import numpy as np\n",
    "import matplotlib.pyplot as plt\n",
    "from mpl_toolkits.mplot3d import Axes3D\n",
    "\n",
    "plt.plot(t[:-1],PDE_input_save[0,:-1])\n",
    "plt.xlabel('Time [sec]')\n",
    "plt.ylabel('qs_input')\n",
    "plt.title('Benchmark INPUT')\n",
    "plt.grid(True)\n",
    "plt.show()"
   ]
  },
  {
   "cell_type": "markdown",
   "metadata": {},
   "source": [
    "See how state looks like over time horizon"
   ]
  },
  {
   "cell_type": "code",
   "execution_count": null,
   "metadata": {},
   "outputs": [],
   "source": [
    "# Extracting r_save, v_save for plot\n",
    "PPO_r_save_plt = np.zeros([51,len(PPO_r_save)])\n",
    "PPO_v_save_plt = np.zeros([51,len(PPO_v_save)])\n",
    "\n",
    "\n",
    "for i in range(len(PPO_r_save)):\n",
    "    PPO_r_save_plt[:,i] = PPO_r_save[i].numpy().reshape([51,])*rs + rs\n",
    "    PPO_v_save_plt[:,i] = PPO_v_save[i].numpy().reshape([51,])*vs + vs\n"
   ]
  },
  {
   "cell_type": "code",
   "execution_count": null,
   "metadata": {},
   "outputs": [],
   "source": [
    "plt.plot(PPO_r_save_plt[:,0])\n",
    "# plt.plot(r_save[:,0])\n",
    "plt.xlabel('X')\n",
    "plt.ylabel('r')\n",
    "plt.grid(True)\n",
    "plt.show()\n",
    "\n",
    "\n",
    "# plt.plot(PPO_r_save_plt[:,0])\n",
    "plt.plot(r_save[:,0])\n",
    "plt.xlabel('X')\n",
    "plt.ylabel('r')\n",
    "plt.grid(True)\n",
    "plt.show()"
   ]
  },
  {
   "cell_type": "markdown",
   "metadata": {},
   "source": [
    "### 3D Plot\n"
   ]
  },
  {
   "cell_type": "code",
   "execution_count": null,
   "metadata": {},
   "outputs": [],
   "source": [
    "from mpl_toolkits.mplot3d import Axes3D\n",
    "\n",
    "\n",
    "## create meshgrid\n",
    "L = settings['L']  #[m]\n",
    "dx = settings['dx']\n",
    "x = np.arange(0,L+dx,dx)\n",
    "t = np.arange(0,T+dt,dt)\n",
    "\n",
    "xx, tt = np.meshgrid(x,t,indexing='ij')\n",
    "\n",
    "\n",
    "fig = plt.figure()\n",
    "ax = fig.add_subplot(111, projection='3d')\n",
    "ax.plot_surface(xx,tt,PPO_r_save_plt*1000)\n"
   ]
  },
  {
   "cell_type": "code",
   "execution_count": null,
   "metadata": {},
   "outputs": [],
   "source": [
    "from mpl_toolkits.mplot3d import Axes3D\n",
    "\n",
    "\n",
    "## create meshgrid\n",
    "L = settings['L']  #[m]\n",
    "dx = settings['dx']\n",
    "x = np.arange(0,L+dx,dx)\n",
    "t = np.arange(0,T+dt,dt)\n",
    "\n",
    "xx, tt = np.meshgrid(x,t,indexing='ij')\n",
    "\n",
    "\n",
    "fig = plt.figure()\n",
    "ax = fig.add_subplot(111, projection='3d')\n",
    "ax.plot_surface(xx,tt,PPO_v_save_plt)"
   ]
  },
  {
   "cell_type": "code",
   "execution_count": null,
   "metadata": {},
   "outputs": [],
   "source": [
    "# import scipy.io as sio\n",
    "# sio.savemat('ARZ_python_result_PPOsave.mat',{'r_vec_PPO':PPO_r_save_plt, 'v_vec_PPO':PPO_v_save_plt, 'rwd_PPO' : rwd_save, 'xx': xx, 'tt' : tt})"
   ]
  },
  {
   "cell_type": "code",
   "execution_count": null,
   "metadata": {},
   "outputs": [],
   "source": []
  },
  {
   "cell_type": "code",
   "execution_count": null,
   "metadata": {},
   "outputs": [],
   "source": []
  },
  {
   "cell_type": "code",
   "execution_count": null,
   "metadata": {},
   "outputs": [],
   "source": []
  },
  {
   "cell_type": "code",
   "execution_count": null,
   "metadata": {},
   "outputs": [],
   "source": []
  },
  {
   "cell_type": "code",
   "execution_count": null,
   "metadata": {},
   "outputs": [],
   "source": []
  },
  {
   "cell_type": "code",
   "execution_count": null,
   "metadata": {},
   "outputs": [],
   "source": []
  },
  {
   "cell_type": "code",
   "execution_count": null,
   "metadata": {},
   "outputs": [],
   "source": []
  },
  {
   "cell_type": "code",
   "execution_count": null,
   "metadata": {},
   "outputs": [],
   "source": []
  },
  {
   "cell_type": "code",
   "execution_count": null,
   "metadata": {},
   "outputs": [],
   "source": []
  },
  {
   "cell_type": "code",
   "execution_count": null,
   "metadata": {},
   "outputs": [],
   "source": []
  },
  {
   "cell_type": "code",
   "execution_count": null,
   "metadata": {},
   "outputs": [],
   "source": []
  },
  {
   "cell_type": "code",
   "execution_count": null,
   "metadata": {},
   "outputs": [],
   "source": []
  },
  {
   "cell_type": "markdown",
   "metadata": {},
   "source": [
    "# Below is not used.."
   ]
  },
  {
   "cell_type": "markdown",
   "metadata": {},
   "source": [
    "#### 1. Smooth rewards"
   ]
  },
  {
   "cell_type": "code",
   "execution_count": null,
   "metadata": {},
   "outputs": [],
   "source": [
    "import pandas as pd\n",
    "\n",
    "# parameters\n",
    "smoothing_window = 10\n",
    "\n",
    "# Smooth\n",
    "rewards_smth = pd.Series(rwd_save).rolling(smoothing_window, min_periods=smoothing_window).mean()\n",
    "\n",
    "# Plot\n",
    "plt.plot(t[:-1],rewards_smth)\n",
    "plt.xlabel('Time [sec]')\n",
    "plt.ylabel('Reward')\n",
    "plt.title('Smoothed Reward')\n",
    "plt.grid(True)\n",
    "plt.show()\n"
   ]
  },
  {
   "cell_type": "code",
   "execution_count": null,
   "metadata": {},
   "outputs": [],
   "source": [
    "sum(rewards_smth[9:])\n"
   ]
  },
  {
   "cell_type": "markdown",
   "metadata": {},
   "source": [
    "#### 2.Smooth actions and use them to environment"
   ]
  },
  {
   "cell_type": "code",
   "execution_count": null,
   "metadata": {},
   "outputs": [],
   "source": [
    "r_save = np.zeros([r_size,N])\n",
    "y_save = np.zeros([y_size,N])\n",
    "v_save = np.zeros([v_size,N])\n",
    "action_save = np.zeros([env.action_space.shape[0],N-1])\n",
    "reward_save = np.zeros(N)\n",
    "\n",
    "states = env.reset()\n",
    "r_save[:,0] = env.r.reshape(r_size,)\n",
    "y_save[:,0] = env.y.reshape(y_size,)\n",
    "v_save[:,0] = env.v.reshape(v_size,)\n",
    "\n",
    "\n",
    "\n",
    "for i in range(N-1):\n",
    "    action = agent.compute_action(states)\n",
    "    states, reward, is_done, info = env.step(action)\n",
    "    r_save[:,i+1] = env.r.reshape(r_size,)\n",
    "    y_save[:,i+1] = env.y.reshape(y_size,)\n",
    "    v_save[:,i+1] = env.v.reshape(v_size,)\n",
    "    reward_save[i+1] = reward\n",
    "    action_save[:,i] = action\n",
    "\n"
   ]
  },
  {
   "cell_type": "code",
   "execution_count": null,
   "metadata": {},
   "outputs": [],
   "source": [
    "# Smooth the action and replay.\n",
    "\n",
    "# parameters\n",
    "smoothing_window = 10\n",
    "\n",
    "# Smooth\n",
    "action_smth = pd.Series(PPO_input_save).rolling(smoothing_window, min_periods=smoothing_window).mean()\n",
    "\n",
    "for i in range(smoothing_window):\n",
    "    action_smth[i]=action_smth[smoothing_window]\n",
    "\n",
    "# Plot\n",
    "plt.plot(t[:-1], action_smth)\n",
    "plt.xlabel('Time [sec]')\n",
    "plt.ylabel('Action_idx')\n",
    "plt.title('Smooth Action')\n",
    "plt.grid(True)\n",
    "plt.show()\n",
    "    "
   ]
  },
  {
   "cell_type": "code",
   "execution_count": null,
   "metadata": {},
   "outputs": [],
   "source": [
    "action_smth[i]"
   ]
  },
  {
   "cell_type": "code",
   "execution_count": null,
   "metadata": {},
   "outputs": [],
   "source": [
    "obs = env.reset()\n",
    "\n",
    "## Added by SHP\n",
    "obs_smth_save = []\n",
    "rwd_smth_save = []\n",
    "PPO_input_save = []\n",
    "# ipdb.set_trace()\n",
    "obs_save.append(obs)\n",
    "\n",
    "\n",
    "if args.env_name.find('Bullet') > -1:\n",
    "    import pybullet as p\n",
    "\n",
    "    torsoId = -1\n",
    "    for i in range(p.getNumBodies()):\n",
    "        if (p.getBodyInfo(i)[0].decode() == \"torso\"):\n",
    "            torsoId = i\n",
    "\n",
    "for i in range(len(action_smth)):\n",
    "\n",
    "    # Obser reward and next obs\n",
    "    obs, reward, done, _ = env.step(action_smth[i])\n",
    "    obs_smth_save.append(obs) # SHP\n",
    "    rwd_smth_save.append(reward) # SHP\n",
    "\n",
    "    masks.fill_(0.0 if done else 1.0)\n",
    "\n",
    "    if args.env_name.find('Bullet') > -1:\n",
    "        if torsoId > -1:\n",
    "            distance = 5\n",
    "            yaw = 0\n",
    "            humanPos, humanOrn = p.getBasePositionAndOrientation(torsoId)\n",
    "            p.resetDebugVisualizerCamera(distance, yaw, -20, humanPos)\n",
    "\n",
    "    if done:\n",
    "        break\n",
    "    ## Commented by SHP."
   ]
  },
  {
   "cell_type": "markdown",
   "metadata": {},
   "source": [
    "## RL-Lib version [NOT USED HERE]"
   ]
  },
  {
   "cell_type": "code",
   "execution_count": null,
   "metadata": {},
   "outputs": [],
   "source": [
    "shp=agent.get_policy()"
   ]
  },
  {
   "cell_type": "code",
   "execution_count": null,
   "metadata": {},
   "outputs": [],
   "source": [
    "import numpy as np\n",
    "import matplotlib.pyplot as plt\n",
    "from mpl_toolkits.mplot3d import Axes3D\n",
    "\n",
    "plt.plot(t,reward_save)\n",
    "plt.xlabel('Time [sec]')\n",
    "plt.ylabel('Reward')\n",
    "plt.title('Reward')\n",
    "plt.grid(True)\n",
    "plt.show()\n"
   ]
  },
  {
   "cell_type": "code",
   "execution_count": null,
   "metadata": {},
   "outputs": [],
   "source": [
    "sum(reward_save)"
   ]
  },
  {
   "cell_type": "code",
   "execution_count": null,
   "metadata": {},
   "outputs": [],
   "source": [
    "import scipy.io as sio\n",
    "xx, tt = np.meshgrid(x,t,indexing='ij')\n",
    "sio.savemat('ARZ_python_result_RL.mat',{'r_vec_RL':r_save, 'v_vec_RL':v_save, 'rwd_RL' : reward_save, 'xx': xx, 'tt' : tt})"
   ]
  },
  {
   "cell_type": "markdown",
   "metadata": {},
   "source": [
    "### Smooth\n",
    "\n",
    "2019.01.31 \n",
    "- 1) Using Pandas, smooth the curve and re-use the input see resutls.\n",
    "- 2) Moving average method, see the curve"
   ]
  },
  {
   "cell_type": "markdown",
   "metadata": {},
   "source": [
    "#### 1. Smooth rewards"
   ]
  },
  {
   "cell_type": "code",
   "execution_count": null,
   "metadata": {},
   "outputs": [],
   "source": [
    "import pandas as pd\n",
    "\n",
    "# parameters\n",
    "smoothing_window = 10\n",
    "\n",
    "# Smooth\n",
    "rewards_smth = pd.Series(reward_save).rolling(smoothing_window, min_periods=smoothing_window).mean()\n",
    "\n",
    "# Plot\n",
    "plt.plot(t,rewards_smth)\n",
    "plt.xlabel('Time [sec]')\n",
    "plt.ylabel('Reward')\n",
    "plt.title('Smoothed Reward')\n",
    "plt.grid(True)\n",
    "plt.show()\n"
   ]
  },
  {
   "cell_type": "markdown",
   "metadata": {},
   "source": [
    "#### 2.Smooth actions and use them to environment"
   ]
  },
  {
   "cell_type": "code",
   "execution_count": null,
   "metadata": {},
   "outputs": [],
   "source": [
    "r_save = np.zeros([r_size,N])\n",
    "y_save = np.zeros([y_size,N])\n",
    "v_save = np.zeros([v_size,N])\n",
    "action_save = np.zeros([env.action_space.shape[0],N-1])\n",
    "reward_save = np.zeros(N)\n",
    "\n",
    "states = env.reset()\n",
    "r_save[:,0] = env.r.reshape(r_size,)\n",
    "y_save[:,0] = env.y.reshape(y_size,)\n",
    "v_save[:,0] = env.v.reshape(v_size,)\n",
    "\n",
    "\n",
    "\n",
    "for i in range(N-1):\n",
    "    action = agent.compute_action(states)\n",
    "    states, reward, is_done, info = env.step(action)\n",
    "    r_save[:,i+1] = env.r.reshape(r_size,)\n",
    "    y_save[:,i+1] = env.y.reshape(y_size,)\n",
    "    v_save[:,i+1] = env.v.reshape(v_size,)\n",
    "    reward_save[i+1] = reward\n",
    "    action_save[:,i] = action\n",
    "\n"
   ]
  },
  {
   "cell_type": "code",
   "execution_count": null,
   "metadata": {},
   "outputs": [],
   "source": [
    "# Plot the action\n",
    "action_save_1d = action_save.flatten('C') \n",
    "plt.plot(t[:-1], action_save_1d)\n",
    "plt.xlabel('Time [sec]')\n",
    "plt.ylabel('Action_idx')\n",
    "plt.title('Action')\n",
    "plt.grid(True)\n",
    "plt.show()\n"
   ]
  },
  {
   "cell_type": "code",
   "execution_count": null,
   "metadata": {},
   "outputs": [],
   "source": [
    "# Smooth the action and replay.\n",
    "\n",
    "# parameters\n",
    "smoothing_window = 10\n",
    "\n",
    "# Smooth\n",
    "action_smth = pd.Series(action_save_1d).rolling(smoothing_window, min_periods=smoothing_window).mean()\n",
    "\n",
    "for i in range(smoothing_window):\n",
    "    action_smth[i]=action_smth[smoothing_window]\n",
    "\n",
    "# Plot\n",
    "plt.plot(t[:-1], action_smth)\n",
    "plt.xlabel('Time [sec]')\n",
    "plt.ylabel('Action_idx')\n",
    "plt.title('Smooth Action')\n",
    "plt.grid(True)\n",
    "plt.show()\n",
    "    "
   ]
  },
  {
   "cell_type": "code",
   "execution_count": null,
   "metadata": {},
   "outputs": [],
   "source": [
    "# Re-run\n",
    "\n",
    "r_save = np.zeros([r_size,N])\n",
    "y_save = np.zeros([y_size,N])\n",
    "v_save = np.zeros([v_size,N])\n",
    "reward_save = np.zeros(N)\n",
    "\n",
    "states = env.reset()\n",
    "r_save[:,0] = env.r.reshape(r_size,)\n",
    "y_save[:,0] = env.y.reshape(y_size,)\n",
    "v_save[:,0] = env.v.reshape(v_size,)\n",
    "\n",
    "for i in range(N-1):\n",
    "    action = action_smth[i]\n",
    "    states, reward, is_done, info = env.step(action)\n",
    "    r_save[:,i+1] = env.r.reshape(r_size,)\n",
    "    y_save[:,i+1] = env.y.reshape(y_size,)\n",
    "    v_save[:,i+1] = env.v.reshape(v_size,)\n",
    "    reward_save[i+1] = reward\n",
    "    action_save[:,i] = action\n",
    "\n",
    "# Plot\n",
    "plt.plot(t,reward_save)\n",
    "plt.xlabel('Time [sec]')\n",
    "plt.ylabel('Reward')\n",
    "plt.title('Reward')\n",
    "plt.grid(True)\n",
    "plt.show() \n"
   ]
  },
  {
   "cell_type": "code",
   "execution_count": null,
   "metadata": {},
   "outputs": [],
   "source": [
    "# Save\n",
    "import scipy.io as sio\n",
    "xx, tt = np.meshgrid(x,t,indexing='ij')\n",
    "sio.savemat('ARZ_python_result_RL_smth_rand_tau.mat',{'r_vec_RL':r_save, 'v_vec_RL':v_save, 'rwd_RL' : reward_save, 'xx': xx, 'tt' : tt})"
   ]
  },
  {
   "cell_type": "code",
   "execution_count": null,
   "metadata": {},
   "outputs": [],
   "source": []
  }
 ],
 "metadata": {
  "kernelspec": {
   "display_name": "Python 3",
   "language": "python",
   "name": "python3"
  },
  "language_info": {
   "codemirror_mode": {
    "name": "ipython",
    "version": 3
   },
   "file_extension": ".py",
   "mimetype": "text/x-python",
   "name": "python",
   "nbconvert_exporter": "python",
   "pygments_lexer": "ipython3",
   "version": "3.6.10"
  }
 },
 "nbformat": 4,
 "nbformat_minor": 2
}
